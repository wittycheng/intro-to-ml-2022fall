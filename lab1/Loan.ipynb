{
 "cells": [
  {
   "cell_type": "markdown",
   "metadata": {
    "pycharm": {
     "name": "#%% md\n"
    }
   },
   "source": [
    "## Load Dataset"
   ]
  },
  {
   "cell_type": "code",
   "execution_count": 1,
   "metadata": {
    "pycharm": {
     "name": "#%%\n"
    }
   },
   "outputs": [
    {
     "data": {
      "text/plain": "    Loan_ID Gender Married Dependents     Education Self_Employed  \\\n0  LP001002   Male      No          0      Graduate            No   \n1  LP001003   Male     Yes          1      Graduate            No   \n2  LP001005   Male     Yes          0      Graduate           Yes   \n3  LP001006   Male     Yes          0  Not Graduate            No   \n4  LP001008   Male      No          0      Graduate            No   \n\n   ApplicantIncome  CoapplicantIncome  LoanAmount  Loan_Amount_Term  \\\n0             5849                0.0         NaN             360.0   \n1             4583             1508.0       128.0             360.0   \n2             3000                0.0        66.0             360.0   \n3             2583             2358.0       120.0             360.0   \n4             6000                0.0       141.0             360.0   \n\n   Credit_History Property_Area Loan_Status  \n0             1.0         Urban           Y  \n1             1.0         Rural           N  \n2             1.0         Urban           Y  \n3             1.0         Urban           Y  \n4             1.0         Urban           Y  ",
      "text/html": "<div>\n<style scoped>\n    .dataframe tbody tr th:only-of-type {\n        vertical-align: middle;\n    }\n\n    .dataframe tbody tr th {\n        vertical-align: top;\n    }\n\n    .dataframe thead th {\n        text-align: right;\n    }\n</style>\n<table border=\"1\" class=\"dataframe\">\n  <thead>\n    <tr style=\"text-align: right;\">\n      <th></th>\n      <th>Loan_ID</th>\n      <th>Gender</th>\n      <th>Married</th>\n      <th>Dependents</th>\n      <th>Education</th>\n      <th>Self_Employed</th>\n      <th>ApplicantIncome</th>\n      <th>CoapplicantIncome</th>\n      <th>LoanAmount</th>\n      <th>Loan_Amount_Term</th>\n      <th>Credit_History</th>\n      <th>Property_Area</th>\n      <th>Loan_Status</th>\n    </tr>\n  </thead>\n  <tbody>\n    <tr>\n      <th>0</th>\n      <td>LP001002</td>\n      <td>Male</td>\n      <td>No</td>\n      <td>0</td>\n      <td>Graduate</td>\n      <td>No</td>\n      <td>5849</td>\n      <td>0.0</td>\n      <td>NaN</td>\n      <td>360.0</td>\n      <td>1.0</td>\n      <td>Urban</td>\n      <td>Y</td>\n    </tr>\n    <tr>\n      <th>1</th>\n      <td>LP001003</td>\n      <td>Male</td>\n      <td>Yes</td>\n      <td>1</td>\n      <td>Graduate</td>\n      <td>No</td>\n      <td>4583</td>\n      <td>1508.0</td>\n      <td>128.0</td>\n      <td>360.0</td>\n      <td>1.0</td>\n      <td>Rural</td>\n      <td>N</td>\n    </tr>\n    <tr>\n      <th>2</th>\n      <td>LP001005</td>\n      <td>Male</td>\n      <td>Yes</td>\n      <td>0</td>\n      <td>Graduate</td>\n      <td>Yes</td>\n      <td>3000</td>\n      <td>0.0</td>\n      <td>66.0</td>\n      <td>360.0</td>\n      <td>1.0</td>\n      <td>Urban</td>\n      <td>Y</td>\n    </tr>\n    <tr>\n      <th>3</th>\n      <td>LP001006</td>\n      <td>Male</td>\n      <td>Yes</td>\n      <td>0</td>\n      <td>Not Graduate</td>\n      <td>No</td>\n      <td>2583</td>\n      <td>2358.0</td>\n      <td>120.0</td>\n      <td>360.0</td>\n      <td>1.0</td>\n      <td>Urban</td>\n      <td>Y</td>\n    </tr>\n    <tr>\n      <th>4</th>\n      <td>LP001008</td>\n      <td>Male</td>\n      <td>No</td>\n      <td>0</td>\n      <td>Graduate</td>\n      <td>No</td>\n      <td>6000</td>\n      <td>0.0</td>\n      <td>141.0</td>\n      <td>360.0</td>\n      <td>1.0</td>\n      <td>Urban</td>\n      <td>Y</td>\n    </tr>\n  </tbody>\n</table>\n</div>"
     },
     "execution_count": 1,
     "metadata": {},
     "output_type": "execute_result"
    }
   ],
   "source": [
    "import pandas as pd\n",
    "import numpy as np\n",
    "df = pd.read_csv('loan.csv')\n",
    "df.head()"
   ]
  },
  {
   "cell_type": "markdown",
   "metadata": {
    "pycharm": {
     "name": "#%% md\n"
    }
   },
   "source": [
    "## Dataset Info"
   ]
  },
  {
   "cell_type": "code",
   "execution_count": 7,
   "metadata": {
    "pycharm": {
     "name": "#%%\n"
    }
   },
   "outputs": [
    {
     "name": "stdout",
     "output_type": "stream",
     "text": [
      "<class 'pandas.core.frame.DataFrame'>\n",
      "RangeIndex: 614 entries, 0 to 613\n",
      "Data columns (total 13 columns):\n",
      " #   Column             Non-Null Count  Dtype  \n",
      "---  ------             --------------  -----  \n",
      " 0   Loan_ID            614 non-null    object \n",
      " 1   Gender             601 non-null    object \n",
      " 2   Married            611 non-null    object \n",
      " 3   Dependents         599 non-null    object \n",
      " 4   Education          614 non-null    object \n",
      " 5   Self_Employed      582 non-null    object \n",
      " 6   ApplicantIncome    614 non-null    int64  \n",
      " 7   CoapplicantIncome  614 non-null    float64\n",
      " 8   LoanAmount         592 non-null    float64\n",
      " 9   Loan_Amount_Term   600 non-null    float64\n",
      " 10  Credit_History     564 non-null    float64\n",
      " 11  Property_Area      614 non-null    object \n",
      " 12  Loan_Status        614 non-null    object \n",
      "dtypes: float64(4), int64(1), object(8)\n",
      "memory usage: 62.5+ KB\n"
     ]
    }
   ],
   "source": [
    "df.info()\n"
   ]
  },
  {
   "cell_type": "markdown",
   "metadata": {
    "pycharm": {
     "name": "#%% md\n"
    }
   },
   "source": [
    "## Data Cleaning and Encode"
   ]
  },
  {
   "cell_type": "code",
   "execution_count": 8,
   "metadata": {
    "pycharm": {
     "name": "#%%\n"
    }
   },
   "outputs": [
    {
     "data": {
      "text/plain": "Gender               13\nMarried               3\nDependents           15\nEducation             0\nSelf_Employed        32\nApplicantIncome       0\nCoapplicantIncome     0\nLoanAmount           22\nLoan_Amount_Term     14\nCredit_History       50\nProperty_Area         0\nLoan_Status           0\ndtype: int64"
     },
     "execution_count": 8,
     "metadata": {},
     "output_type": "execute_result"
    }
   ],
   "source": [
    "df.drop(\"Loan_ID\", axis=1, inplace=True)\n",
    "# Checking the Missing Values\n",
    "df.isnull().sum()"
   ]
  },
  {
   "cell_type": "code",
   "execution_count": 9,
   "metadata": {
    "pycharm": {
     "name": "#%%\n"
    }
   },
   "outputs": [
    {
     "name": "stderr",
     "output_type": "stream",
     "text": [
      "C:\\Users\\tooll\\AppData\\Local\\Temp\\ipykernel_12196\\2268856412.py:8: SettingWithCopyWarning: \n",
      "A value is trying to be set on a copy of a slice from a DataFrame\n",
      "\n",
      "See the caveats in the documentation: https://pandas.pydata.org/pandas-docs/stable/user_guide/indexing.html#returning-a-view-versus-a-copy\n",
      "  df['Dependents'][i]='3'#这里用replace会报错？\n"
     ]
    }
   ],
   "source": [
    "# Task1 deal with NULL rows, you can either choose to drop them or replace them with mean or other value \n",
    "\n",
    "\n",
    "s=df.shape#s0 is num of appicants s1 is features\n",
    "#washing strings\n",
    "for i in range(s[0]):\n",
    "    if df['Dependents'][i]=='3+':\n",
    "        df['Dependents'][i]='3'#这里用replace会报错？\n",
    "df['Dependents']=pd.to_numeric( df['Dependents'], errors='coerce').astype('float64')#先把NAN全部改成-1\n",
    "df['Gender']=df['Gender'].str.replace('Male','1')\n",
    "df['Gender']=df['Gender'].str.replace('Female','0')\n",
    "df['Gender']=pd.to_numeric( df['Gender'], errors='coerce').astype('float64')#先把NAN全部改成-1\n",
    "df['Married']=df['Married'].str.replace('Yes','1')\n",
    "df['Married']=df['Married'].str.replace('No','0')\n",
    "df['Married']=pd.to_numeric( df['Married'], errors='coerce').astype('float64')#先把NAN全部改成-1\n",
    "df['Education']=df['Education'].str.replace('Not Graduate','0')\n",
    "df['Education']=df['Education'].str.replace('Graduate','1')\n",
    "#注意这里not edu 不能在edu后面\n",
    "\n",
    "df['Education']=pd.to_numeric( df['Education'], errors='coerce').astype('float64')#先把NAN全部改成-1\n",
    "\n",
    "df['Self_Employed']=df['Self_Employed'].str.replace('Yes','1')\n",
    "df['Self_Employed']=df['Self_Employed'].str.replace('No','0')\n",
    "df['Self_Employed']=pd.to_numeric( df['Self_Employed'], errors='coerce').astype('float64')#先把NAN全部改成-1\n",
    "\n",
    "df['Property_Area']=df['Property_Area'].str.replace('Urban','2')\n",
    "df['Property_Area']=df['Property_Area'].str.replace('Semiurban','1')\n",
    "df['Property_Area']=df['Property_Area'].str.replace('Rural','0')\n",
    "df['Property_Area']=pd.to_numeric( df['Property_Area'], errors='coerce').astype('float64')#先把NAN全部改成-1\n",
    "df['Loan_Status']=df['Loan_Status'].str.replace('Y','1')\n",
    "df['Loan_Status']=df['Loan_Status'].str.replace('N','0')\n",
    "df['Loan_Status']=pd.to_numeric( df['Self_Employed'], errors='coerce').astype('float64')#先把NAN全部改成-1\n",
    "#washing strings\n",
    "\n",
    "#washing  floats/ints\n",
    "for column in list(df.columns[df.isnull().sum() > 0]):\n",
    "    mean_val = df[column].mean()\n",
    "    df[column].fillna(mean_val, inplace=True)\n",
    "#washing \n",
    "df=df.sample(frac=1)\n"
   ]
  },
  {
   "cell_type": "code",
   "execution_count": 10,
   "metadata": {
    "pycharm": {
     "name": "#%%\n"
    }
   },
   "outputs": [
    {
     "data": {
      "text/plain": "Gender               0\nMarried              0\nDependents           0\nEducation            0\nSelf_Employed        0\nApplicantIncome      0\nCoapplicantIncome    0\nLoanAmount           0\nLoan_Amount_Term     0\nCredit_History       0\nProperty_Area        0\nLoan_Status          0\ndtype: int64"
     },
     "execution_count": 10,
     "metadata": {},
     "output_type": "execute_result"
    }
   ],
   "source": [
    "# Task2 deal with categorical features\n",
    "# Tip df.Gender=df.Gender.map({'Male':1,'Female':0})\n",
    "#print(df['Education'][:20])\n",
    "df.isnull().sum()"
   ]
  },
  {
   "cell_type": "markdown",
   "metadata": {
    "pycharm": {
     "name": "#%% md\n"
    }
   },
   "source": [
    "## Data process(包括增加特征和正则化)"
   ]
  },
  {
   "cell_type": "code",
   "execution_count": 11,
   "outputs": [],
   "source": [
    "df=df.sample(frac=1)\n",
    "\n",
    "df_norms=df.drop(columns=['Loan_Status'])\n",
    "for column in df_norms:\n",
    "    #print(df_norm[column])\n",
    "    mean_val=df_norms[column].mean()\n",
    "    var_1=df_norms[column].var()\n",
    "    df_norms[column]=(df_norms[column]-mean_val)/var_1\n",
    "list=[1 for _ in range(614)]\n",
    "data=pd.DataFrame(list,columns=['intercept'])\n",
    "df_norms=pd.concat([df_norms,data],axis=1)\n",
    "for i in range(614):\n",
    "    list[i]=np.exp(df_norms['ApplicantIncome'][i])\n",
    "data=pd.DataFrame(list,columns=['ApplicantIncome^2'])\n",
    "df_norms=pd.concat([df_norms,data],axis=1)\n",
    "#13\n",
    "#from now the df_norms has become a normalized dataframe with intercept,we want to do\n",
    "#ten times tem fold\n",
    "#print(df_norms)\n",
    "#split\n",
    "X_train=df.iloc[:554]\n",
    "#y_train=df.iloc[10]\n",
    "X_test=df.iloc[554:]\n",
    "#y_test=df.iloc[10][554:]\n",
    "y_train=X_train['Loan_Status']\n",
    "y_test=X_test['Loan_Status']\n",
    "X_train=df_norms.iloc[:554]\n",
    "X_test=df_norms.iloc[554:]\n",
    "#print(X_train)#先用直接抽取后60个的方式来测试，后面再更改随机抽取；十折等等"
   ],
   "metadata": {
    "collapsed": false,
    "pycharm": {
     "name": "#%%\n"
    }
   }
  },
  {
   "cell_type": "code",
   "execution_count": 12,
   "outputs": [],
   "source": [
    "cols=np.linspace(0,12,endpoint=True,num=13,dtype=int)\n",
    "X_train.columns=cols\n",
    "X_test.columns=cols\n",
    "rows=np.linspace(0,59,endpoint=True,num=60,dtype=int)\n",
    "X_test.index=rows\n",
    "y_test.index=rows"
   ],
   "metadata": {
    "collapsed": false,
    "pycharm": {
     "name": "#%%\n"
    }
   }
  },
  {
   "cell_type": "code",
   "execution_count": 13,
   "metadata": {
    "pycharm": {
     "name": "#%%\n"
    }
   },
   "outputs": [],
   "source": [
    "#print(X_test.shape)\n",
    "a=np.zeros(0)"
   ]
  },
  {
   "cell_type": "markdown",
   "metadata": {
    "pycharm": {
     "name": "#%% md\n"
    }
   },
   "source": [
    "## Train"
   ]
  },
  {
   "cell_type": "code",
   "execution_count": 14,
   "metadata": {
    "collapsed": false,
    "pycharm": {
     "name": "#%%\n"
    }
   },
   "outputs": [],
   "source": [
    "from Logistic import LogisticRegression\n",
    "import matplotlib.pyplot as plt\n",
    "obj=LogisticRegression()\n",
    "theta_0= np.random.rand(13)\n",
    "J_his=np.zeros(0)\n",
    "\n",
    "theta_0,J_his=obj.fit(X_train.T,y_train)\n",
    "#print(J_his)\n",
    "# Task4 train your model and plot the loss curve of training"
   ]
  },
  {
   "cell_type": "code",
   "execution_count": 15,
   "outputs": [
    {
     "data": {
      "text/plain": "[<matplotlib.lines.Line2D at 0x276c4accb50>]"
     },
     "execution_count": 15,
     "metadata": {},
     "output_type": "execute_result"
    },
    {
     "data": {
      "text/plain": "<Figure size 432x288 with 1 Axes>",
      "image/png": "[encoded data removed]"
     },
     "metadata": {
      "needs_background": "light"
     },
     "output_type": "display_data"
    }
   ],
   "source": [
    "a=np.linspace(0,len(J_his)-1,endpoint=True,num=len(J_his))\n",
    "plt.plot(a,J_his)"
   ],
   "metadata": {
    "collapsed": false,
    "pycharm": {
     "name": "#%%\n"
    }
   }
  },
  {
   "cell_type": "markdown",
   "source": [
    "## Test"
   ],
   "metadata": {
    "collapsed": false,
    "pycharm": {
     "name": "#%% md\n"
    }
   }
  },
  {
   "cell_type": "code",
   "execution_count": 16,
   "outputs": [
    {
     "name": "stdout",
     "output_type": "stream",
     "text": [
      "without restriction and with normalzation,iteration=1e4 (baseline) is 0.9333333333333333\n"
     ]
    }
   ],
   "source": [
    "# Task5 compare the accuracy(or other metrics you want) of test data with different parameters you train with\n",
    "print(\"without restriction and with normalzation,iteration=1e4 (baseline) is\",obj.predict(X_test.T,y_test,theta_0))"
   ],
   "metadata": {
    "collapsed": false,
    "pycharm": {
     "name": "#%%\n"
    }
   }
  },
  {
   "cell_type": "code",
   "execution_count": 17,
   "outputs": [
    {
     "name": "stdout",
     "output_type": "stream",
     "text": [
      "with lambda=2 and with normalzation,iteration=1e4 is 0.9333333333333333\n"
     ]
    },
    {
     "data": {
      "text/plain": "<Figure size 432x288 with 1 Axes>",
      "image/png": "[encoded data removed]"
     },
     "metadata": {
      "needs_background": "light"
     },
     "output_type": "display_data"
    }
   ],
   "source": [
    "theta_1= np.random.rand(13)\n",
    "J_his1=np.zeros(0)\n",
    "theta_1,J_his1=obj.fit(X_train.T,y_train,lambda_=2)\n",
    "a=np.linspace(0,len(J_his1)-1,endpoint=True,num=len(J_his1))\n",
    "plt.plot(a,J_his1)\n",
    "print(\"with lambda=2 and with normalzation,iteration=1e4 is\",obj.predict(X_test.T,y_test,theta_1))"
   ],
   "metadata": {
    "collapsed": false,
    "pycharm": {
     "name": "#%%\n"
    }
   }
  },
  {
   "cell_type": "code",
   "execution_count": 18,
   "outputs": [
    {
     "name": "stdout",
     "output_type": "stream",
     "text": [
      "lambda= 0 accuracy= 0.9333333333333333 recall= 1.0 precision= 0.8\n",
      "lambda= 1 accuracy= 0.9333333333333333 recall= 1.0 precision= 0.8\n",
      "lambda= 3 accuracy= 0.9333333333333333 recall= 1.0 precision= 0.8\n",
      "lambda= 10 accuracy= 0.9333333333333333 recall= 1.0 precision= 0.8\n",
      "lambda= 30 accuracy= 0.9333333333333333 recall= 1.0 precision= 0.8\n",
      "lambda= 0.1 accuracy= 0.9333333333333333 recall= 1.0 precision= 0.8\n",
      "lambda= 0.3 accuracy= 0.9333333333333333 recall= 1.0 precision= 0.8\n",
      "lr= 0.001 accuracy= 0.9333333333333333 recall= 1.0 precision= 0.8\n",
      "lr= 0.003 accuracy= 0.9333333333333333 recall= 1.0 precision= 0.8\n",
      "lr= 0.01 accuracy= 0.9333333333333333 recall= 1.0 precision= 0.8\n",
      "lr= 0.03 accuracy= 0.9333333333333333 recall= 1.0 precision= 0.8\n",
      "lr= 0.1 accuracy= 0.9333333333333333 recall= 1.0 precision= 0.8\n",
      "lr= 0.3 accuracy= 0.9333333333333333 recall= 1.0 precision= 0.8\n"
     ]
    },
    {
     "data": {
      "text/plain": "<Figure size 432x288 with 1 Axes>",
      "image/png": "[encoded data removed]"
     },
     "metadata": {
      "needs_background": "light"
     },
     "output_type": "display_data"
    }
   ],
   "source": [
    "\n",
    "#改变参数\n",
    "for i in [0,1,3,10,30,0.1,0.3]:\n",
    "    theta,J_his0=obj.fit(X_train.T,y_train,lambda_=i,max_iter=3e3)\n",
    "    a=np.linspace(0,len(J_his0)-1,endpoint=True,num=len(J_his0))\n",
    "    plt.plot(a,J_his0)\n",
    "    b=obj.predict(X_test.T,y_test,theta)\n",
    "    pr,rc=obj.re_pr(X_test.T,y_test,theta)\n",
    "    print(\"lambda=\",i,\"accuracy=\",b,\"recall=\",rc,\"precision=\",pr)\n",
    "\n",
    "for i in [0.001,0.003,0.01,0.03,0.1,0.3]:\n",
    "    theta,J_his0=obj.fit(X_train.T,y_train,lr=i)\n",
    "    a=np.linspace(0,len(J_his0)-1,endpoint=True,num=len(J_his0))\n",
    "    plt.plot(a,J_his0)\n",
    "    b=obj.predict(X_test.T,y_test,theta)\n",
    "    pr,rc=obj.re_pr(X_test.T,y_test,theta)\n",
    "    print(\"lr=\",i,\"accuracy=\",b,\"recall=\",rc,\"precision=\",pr)"
   ],
   "metadata": {
    "collapsed": false,
    "pycharm": {
     "name": "#%%\n"
    }
   }
  },
  {
   "cell_type": "code",
   "execution_count": 19,
   "metadata": {
    "pycharm": {
     "name": "#%%\n"
    }
   },
   "outputs": [
    {
     "name": "stdout",
     "output_type": "stream",
     "text": [
      "0.9333333333333333\n"
     ]
    }
   ],
   "source": [
    "# Task5 compare the accuracy(or other metrics you want) of test data with different parameters you train with\n",
    "print(obj.predict(X_test.T,y_test,theta_0))\n",
    "#print(X_test.shape,df_norms.shape)"
   ]
  },
  {
   "cell_type": "code",
   "execution_count": 20,
   "outputs": [
    {
     "name": "stderr",
     "output_type": "stream",
     "text": [
      "D:\\2022autumn\\机器学习概论\\ml_2022_f-master\\lab\\lab1\\Logistic.py:22: RuntimeWarning: divide by zero encountered in log\n",
      "  J+=-np.dot(y,np.log(self.sigmoid(np.dot(X.T,theta))))/m-np.dot(1-y,np.log(1-self.sigmoid(np.dot(X.T,theta))))/m\n",
      "D:\\2022autumn\\机器学习概论\\ml_2022_f-master\\lab\\lab1\\Logistic.py:39: RuntimeWarning: invalid value encountered in double_scalars\n",
      "  if (abs(J-J_his[i-1])<tol )&(i>=1000):\n"
     ]
    },
    {
     "data": {
      "text/plain": "<Figure size 432x288 with 1 Axes>",
      "image/png": "[encoded data removed]"
     },
     "metadata": {
      "needs_background": "light"
     },
     "output_type": "display_data"
    }
   ],
   "source": [
    "#实现十次十折\n",
    "#beforehand we have already make the dataframe random and we need to split it\n",
    "res=np.zeros((10,3))#0is acc,1 is pr,1 is rc,store the result of one time of ten fold\n",
    "rres=np.zeros((10,3))\n",
    "#614\n",
    "for j in range(10):\n",
    "    df=df.sample(frac=1)\n",
    "    df_norms=df.drop(columns=['Loan_Status'])\n",
    "    for column in df_norms:\n",
    "        #print(df_norms[column])\n",
    "        mean_val=df_norms[column].mean()\n",
    "        var_1=df_norms[column].var()\n",
    "        df_norms[column]=(df_norms[column]-mean_val)/var_1\n",
    "    list=[1 for _ in range(614)]\n",
    "    data=pd.DataFrame(list,columns=['intercept'])\n",
    "    df_norms=pd.concat([df_norms,data],axis=1)\n",
    "    for i in range(614):\n",
    "        list[i]=np.exp(df_norms['ApplicantIncome'][i])\n",
    "    data=pd.DataFrame(list,columns=['ApplicantIncome^2'])\n",
    "    df_norms=pd.concat([df_norms,data],axis=1)\n",
    "    for i in range(10):\n",
    "        X_temp_test=df.iloc[i*61:(i+1)*61]\n",
    "        X_temp_train=pd.concat([df.iloc[0:i*61],df.iloc[(i+1)*61:]],axis=0)\n",
    "        y_temp_test=X_temp_test['Loan_Status']\n",
    "        y_temp_train=X_temp_train['Loan_Status']\n",
    "        X_temp_test=df_norms.iloc[i*61:(i+1)*61]\n",
    "        X_temp_train=pd.concat([df_norms.iloc[0:i*61],df_norms.iloc[(i+1)*61:]],axis=0)\n",
    "        cols=np.linspace(0,12,endpoint=True,num=13,dtype=int)\n",
    "        X_temp_train.columns=cols\n",
    "        X_temp_test.columns=cols\n",
    "        rows=np.linspace(0,60,endpoint=True,num=61,dtype=int)\n",
    "        X_temp_test.index=rows\n",
    "        y_temp_test.index=rows\n",
    "        rows1=np.linspace(0,552,endpoint=True,num=553,dtype=int)\n",
    "        X_temp_train.index=rows1\n",
    "        y_temp_train.index=rows1\n",
    "        theta_10= np.random.rand(13)\n",
    "        J_his10=np.zeros(0)\n",
    "        theta_10,J_his10=obj.fit(X_temp_train.T,y_temp_train,lambda_=0,max_iter=3e3)\n",
    "        a=np.linspace(0,len(J_his10)-1,endpoint=True,num=len(J_his10))\n",
    "        plt.plot(a,J_his10)\n",
    "        res[i][0]=obj.predict(X_temp_test.T,y_temp_test,theta_10)\n",
    "        res[i][1],res[i][2]=obj.re_pr(X_temp_test.T,y_temp_test,theta_10)#1pr,2re\n",
    "    rres[j]=res.mean(axis=0)\n",
    "\n",
    "\n",
    "# df_norms=df.drop(columns=['Loan_Status'])\n",
    "# for column in df_norms:\n",
    "#     #print(df_norm[column])\n",
    "#     mean_val=df_norms[column].mean()\n",
    "#     var_1=df_norms[column].var()\n",
    "#     df_norms[column]=(df_norms[column]-mean_val)/var_1\n",
    "# list=[1 for _ in range(614)]\n",
    "# data=pd.DataFrame(list,columns=['intercept'])\n",
    "# df_norms=pd.concat([df_norms,data],axis=1)\n",
    "# #from now the df_norms has become a normalized dataframe with intercept,we want to do\n",
    "# #ten times tem fold\n",
    "# #print(df_norms)\n",
    "# #split\n",
    "# X_train=df.iloc[:554]\n",
    "# #y_train=df.iloc[10]\n",
    "# X_test=df.iloc[554:]\n",
    "# #y_test=df.iloc[10][554:]\n",
    "# y_train=X_train['Loan_Status']\n",
    "# y_test=X_test['Loan_Status']\n",
    "# X_train=df_norms.iloc[:554]\n",
    "# X_test=df_norms.iloc[554:]"
   ],
   "metadata": {
    "collapsed": false,
    "pycharm": {
     "name": "#%%\n"
    }
   }
  },
  {
   "cell_type": "code",
   "execution_count": 21,
   "outputs": [
    {
     "name": "stdout",
     "output_type": "stream",
     "text": [
      "id= 0 acc= 0.9475409836065575 pr= 0.7167316017316017 re= 1.0 F1= 0.83499552406289\n",
      "id= 1 acc= 0.9475409836065575 pr= 0.7187445887445888 re= 1.0 F1= 0.8363599727980254\n",
      "id= 2 acc= 0.9475409836065574 pr= 0.7169774669774669 re= 1.0 F1= 0.8351623486819776\n",
      "id= 3 acc= 0.9491803278688525 pr= 0.7123588911088911 re= 1.0 F1= 0.8320205475705866\n",
      "id= 4 acc= 0.9491803278688525 pr= 0.7187649605296664 re= 1.0 F1= 0.8363737649249806\n",
      "id= 5 acc= 0.9475409836065574 pr= 0.7076228673287497 re= 1.0 F1= 0.8287812032356895\n",
      "id= 6 acc= 0.9475409836065574 pr= 0.7211904761904762 re= 1.0 F1= 0.8380135565085074\n",
      "id= 7 acc= 0.9491803278688525 pr= 0.720875350140056 re= 1.0 F1= 0.837800773985619\n",
      "id= 8 acc= 0.9475409836065575 pr= 0.7164213564213564 re= 1.0 F1= 0.8347849480445236\n",
      "id= 9 acc= 0.9475409836065574 pr= 0.7132217782217782 re= 1.0 F1= 0.8326088160775773\n",
      "acc_ave,pr_ave,re_ave分别为 [0.94754098 0.71322178 1.        ] F1_ave为 0.8346901455890376\n"
     ]
    }
   ],
   "source": [
    "F1=np.zeros(10)\n",
    "for i in range(10):\n",
    "    print(\"id=\",i,\"acc=\",rres[i][0],\"pr=\",rres[i][1],\"re=\",rres[i][2],\"F1=\",2*rres[i][1]*rres[i][2]/(rres[i][1]+rres[i][2]))\n",
    "    F1[i]=2*rres[i][1]*rres[i][2]/(rres[i][1]+rres[i][2])\n",
    "print('acc_ave,pr_ave,re_ave分别为',res.mean(axis=0),'F1_ave为',F1.mean())"
   ],
   "metadata": {
    "collapsed": false,
    "pycharm": {
     "name": "#%%\n"
    }
   }
  }
 ],
 "metadata": {
  "kernelspec": {
   "display_name": "Python 3.9.12 ('base')",
   "language": "python",
   "name": "python3"
  },
  "language_info": {
   "codemirror_mode": {
    "name": "ipython",
    "version": 3
   },
   "file_extension": ".py",
   "mimetype": "text/x-python",
   "name": "python",
   "nbconvert_exporter": "python",
   "pygments_lexer": "ipython3",
   "version": "3.9.12"
  },
  "orig_nbformat": 4,
  "vscode": {
   "interpreter": {
    "hash": "5179d32cf6ec497baf3f8a3ef987cc77c5d2dc691fdde20a56316522f61a7323"
   }
  }
 },
 "nbformat": 4,
 "nbformat_minor": 2
}
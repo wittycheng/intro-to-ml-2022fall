{
 "cells": [
  {
   "cell_type": "code",
   "execution_count": 2,
   "metadata": {
    "pycharm": {
     "name": "#%%\n"
    }
   },
   "outputs": [],
   "source": [
    "import numpy as np\n",
    "import random\n",
    "import time"
   ]
  },
  {
   "cell_type": "markdown",
   "metadata": {
    "pycharm": {
     "name": "#%% md\n"
    }
   },
   "source": [
    "# generate data"
   ]
  },
  {
   "cell_type": "code",
   "execution_count": 3,
   "metadata": {
    "pycharm": {
     "name": "#%%\n"
    }
   },
   "outputs": [],
   "source": [
    "# In real world, you cannot learn how the data was generated. So do not rely on this function when coding your lab.\n",
    "def generate_data(dim, num):\n",
    "    x = np.random.normal(0, 10, [num, dim])\n",
    "    coef = np.random.uniform(-1, 1, [dim, 1])\n",
    "    pred = np.dot(x, coef)\n",
    "    pred_n = (pred - np.mean(pred)) / np.sqrt(np.var(pred))\n",
    "    label = np.sign(pred_n)\n",
    "    mislabel_value = np.random.uniform(0, 1, num)\n",
    "    mislabel = 0\n",
    "    for i in range(num):\n",
    "        if np.abs(pred_n[i]) < 1 and mislabel_value[i] > 0.9 + 0.1 * np.abs(pred_n[i]):\n",
    "            label[i] *= -1\n",
    "            mislabel += 1\n",
    "    return x, label, mislabel/num"
   ]
  },
  {
   "cell_type": "code",
   "execution_count": 4,
   "metadata": {
    "pycharm": {
     "name": "#%%\n"
    }
   },
   "outputs": [
    {
     "data": {
      "text/plain": "0.0374"
     },
     "execution_count": 4,
     "metadata": {},
     "output_type": "execute_result"
    }
   ],
   "source": [
    "# example\n",
    "x, y, mr = generate_data(5, 10000)\n",
    "mr"
   ]
  },
  {
   "cell_type": "markdown",
   "metadata": {
    "pycharm": {
     "name": "#%% md\n"
    }
   },
   "source": [
    "# write your model class"
   ],
   "outputs": []
  },
  {
   "cell_type": "code",
   "execution_count": 6,
   "outputs": [],
   "source": [
    "#in this task we will use two methods to solve the problem solve the original problem and solving the dual problem"
   ],
   "metadata": {
    "collapsed": false,
    "pycharm": {
     "name": "#%%\n"
    }
   }
  },
  {
   "cell_type": "code",
   "execution_count": 14,
   "outputs": [
    {
     "name": "stdout",
     "output_type": "stream",
     "text": [
      "[-0.11607859 -0.11009041  0.09540212 -0.04571928 -0.02659928]\n",
      "based on error picking err= 0.125 耗时 0.14037489891052246\n"
     ]
    }
   ],
   "source": [
    "# you can do anything necessary about the model\n",
    "#dual\n",
    "class SVM1:\n",
    "    def __init__(self, dim,num):\n",
    "        self.dim=dim\n",
    "        self.num=num\n",
    "        self.theta=np.zeros(dim)\n",
    "        self.b=0\n",
    "        self.a=np.zeros(num)\n",
    "        self.c=10\n",
    "        self.e=np.zeros(num)\n",
    "    def find_j(self,best_i,X):\n",
    "        valid_j_list = [i for i in range(0, len(self.a)) if self.a[i] > 0 and i != best_i]\n",
    "        best_j = -1\n",
    "        if len(valid_j_list) > 0:\n",
    "            max_e = 0\n",
    "            for j in valid_j_list:\n",
    "                current_e = abs(self.e[best_i] - self.e[j])\n",
    "                if current_e > max_e:\n",
    "                    best_j = j\n",
    "                    max_e = current_e\n",
    "        else:\n",
    "            # 随机选择\n",
    "        # l = list(range(len(self.a)))\n",
    "        # seq = l[: best_i] + l[best_i + 1:]\n",
    "        # best_j = random.choice(seq)\n",
    "            #选择最大的\n",
    "            max_e=0\n",
    "            for j in range(X.shape[0]):\n",
    "                current_e=abs(self.e[j]-self.e[best_i])\n",
    "                if current_e>max_e and best_i!=j:\n",
    "                    best_j=j\n",
    "                    max_e=current_e\n",
    "        #     max_dis=0\n",
    "        #     best_j=-1\n",
    "        #     temp_dis=0\n",
    "        #     for j in range(self.num):\n",
    "        #         temp_dis=np.dot(X[j,:]-X[best_i,:],X[j,:]-X[best_i,:])\n",
    "        #         if temp_dis>max_dis:\n",
    "        #             best_j=j\n",
    "        #             max_dis=temp_dis\n",
    "        return best_j\n",
    "\n",
    "    def meet_kkt(self,i,y_i,x_i):\n",
    "        if (self.a[i]<self.c):#表明kexi=0,这个值要么\n",
    "            return y_i*(np.dot(self.theta,x_i)+self.b)>=1\n",
    "        else:\n",
    "            return y_i*(np.dot(self.theta,x_i)+self.b)<1\n",
    "\n",
    "    def fit(self, X, y,max_iter=50):\n",
    "        iter=0\n",
    "        self.c=100\n",
    "        a1old=0\n",
    "        a2old=0\n",
    "        eta=0\n",
    "        a1ujunc=0\n",
    "        a2njunc=0\n",
    "\n",
    "        # self.a=np.random.rand(self.num)\n",
    "        # self.theta=np.dot(self.a,X)\n",
    "        self.b=(y-np.dot(self.theta,X.T)).sum()/self.num\n",
    "        self.e=np.dot(self.theta,X.T)-y+self.b\n",
    "        while(iter<max_iter):\n",
    "            iter=iter+1\n",
    "            #print(iter)\n",
    "            for i in range(self.num):\n",
    "                if (self.meet_kkt(i,y[i],X[i,:])==0):\n",
    "                    is_all_kkt=0\n",
    "                    best_j=self.find_j(i,X)\n",
    "                    x1=X[i,:]\n",
    "                    x2=X[best_j,:]\n",
    "                    y1=y[i]\n",
    "                    y2=y[best_j]\n",
    "                    e1old=self.e[i]\n",
    "                    e2old=self.e[best_j]\n",
    "                    eta=np.dot(x1-x2,x1-x2)\n",
    "                    if (abs(eta)<1e-3):\n",
    "                        continue\n",
    "                    else:\n",
    "                        a1old=self.a[i]\n",
    "                        a2old=self.a[best_j]\n",
    "                        a2njunc=a2old + y2 * (e1old - e2old)/eta#未进行修减的a2\n",
    "                        if y1==y2:\n",
    "                            l=max(0.,a1old+a2old-self.c)#range of a1 and a2\n",
    "                            r=min(self.c,a2old+a1old)\n",
    "                        else :\n",
    "                            l=max(0,a2old-a1old)\n",
    "                            r=min(self.c,self.c-(a2old-a1old))\n",
    "                        if (a2njunc>r):\n",
    "                            a2new=r\n",
    "                        elif(a2njunc<l):\n",
    "                            a2new=l\n",
    "                        else:\n",
    "                            a2new=a2njunc\n",
    "                        if abs(a2new-a2old)<1e-5:\n",
    "                            continue\n",
    "                        else:\n",
    "                            a1new=a1old+y1*y2*(a2old-a2new)\n",
    "                            self.theta=self.theta+(a1new - a1old)*y1*x1+(a2new-a2old)*y2*x2\n",
    "                            self.a[i]=a1new\n",
    "                            self.a[best_j]=a2new\n",
    "                            self.b=(y-np.dot(self.theta,X.T)).sum()/self.num\n",
    "                            # b1new=y1-np.dot(self.theta, x1)\n",
    "                            # b2new=y2-np.dot(self.theta, x2)\n",
    "                            # if self.c > a1new > 0:\n",
    "                            #     self.b=b1new\n",
    "                            # elif self.c>a2new>0:\n",
    "                            #     self.b=b2new\n",
    "                            # else:\n",
    "                            #     self.b=(b1new + b2new) / 2.0\n",
    "                            self.e=np.dot(self.theta,X.T)-y+self.b\n",
    "                            # for k in range(0, len(self.e)):\n",
    "                            #     self.e[k] = np.dot(self.theta, X[k, :]) + self.b - y[k]\n",
    "                            # self.b=-self.e.sum()/self.num\n",
    "            if (is_all_kkt):\n",
    "                break\n",
    "\n",
    "            #find those to update\n",
    "\n",
    "\n",
    "    def predict(self, X):\n",
    "        a=X.shape[0]\n",
    "        pre=np.zeros(a)\n",
    "        for i in range(a):\n",
    "            if (np.dot(self.theta,X[i])+self.b>0):\n",
    "                pre[i]=1\n",
    "            else:\n",
    "                pre[i]=-1\n",
    "        return pre\n",
    "        \"\"\"\n",
    "        Use the trained model to generate prediction probabilities on a new\n",
    "        collection of data points.\n",
    "        \"\"\"\n",
    "t1=time.time()\n",
    "obj1=SVM1(5,100)\n",
    "obj1.fit(x,Y,max_iter=1e2)\n",
    "print(obj1.theta)\n",
    "t2=time.time()\n",
    "# for i in range(obj.num):\n",
    "#     if (obj.predict(x)[i]==Y[i]):\n",
    "#         ans=ans+1\n",
    "# print('acc=',ans/obj.num)\n",
    "ans=0\n",
    "for j in range(10):\n",
    "    x,y,mr=generate_data(5,100)\n",
    "    Y=np.zeros(100)\n",
    "    for i in range(100):\n",
    "        Y[i]=y[i]\n",
    "    obj1=SVM1(5,100)\n",
    "    obj1.fit(x,Y)\n",
    "    for i in range(obj1.num):\n",
    "        # print(np.dot(obj1.theta,x[i])+obj1.b,Y[i])\n",
    "        if ((np.dot(obj1.theta,x[i])+obj1.b)*Y[i]<0):\n",
    "            ans=ans+1\n",
    "print('based on error picking err=',ans/obj1.num/10,'耗时',t2-t1)"
   ],
   "metadata": {
    "collapsed": false,
    "pycharm": {
     "name": "#%%\n"
    }
   }
  },
  {
   "cell_type": "code",
   "execution_count": 13,
   "metadata": {
    "pycharm": {
     "name": "#%%\n"
    }
   },
   "outputs": [
    {
     "name": "stdout",
     "output_type": "stream",
     "text": [
      "err= 0.06 \n",
      " 耗时 0.030105113983154297\n"
     ]
    }
   ],
   "source": [
    "# you can do anything necessary about the model\n",
    "class SVM2:\n",
    "    def __init__(self, dim,num):\n",
    "        \"\"\"\n",
    "        You can add some other parameters, which I think is not necessary\n",
    "        \"\"\"\n",
    "        self.dim=dim\n",
    "        self.theta=np.zeros(dim)\n",
    "        self.b=0\n",
    "        self.num=num\n",
    "        self.episilon=0.03\n",
    "    def grad(self,X,y,lr=0.0001,ep=0.05):\n",
    "        J=0\n",
    "        grad=np.zeros(self.dim)\n",
    "        gradb=0\n",
    "        for i in range(self.num):\n",
    "            t=np.dot(self.theta,X[i,:])+self.b-y[i]#当y>0,t<-episilon的时候需要梯度下降当y<0,t>epsilon需要梯度下降\n",
    "            if t*y[i]<-ep and y[i]>0:\n",
    "                J=J+abs(t)\n",
    "                grad=grad-lr*X[i,:]*y[i]\n",
    "                gradb=gradb+lr*y[i]\n",
    "        #grad+=self.theta*lr\n",
    "        return J,grad,gradb\n",
    "    def fit(self, X, y,max_iter=5e3,tol=0.003):\n",
    "        \"\"\"\n",
    "        Fit the coefficients via your methods\n",
    "        \"\"\"\n",
    "        J_his=[]\n",
    "        J,grad,gradb=self.grad(X,y)\n",
    "        iter=0\n",
    "        while (J>tol and iter<max_iter):\n",
    "            iter=iter+1\n",
    "            J,grad,gradb=self.grad(X,y)\n",
    "\n",
    "            self.theta=-grad+self.theta\n",
    "            self.b=self.b-gradb\n",
    "            if (iter>1000) and (J>J_his[-1]):\n",
    "                break\n",
    "            J_his.append(J)#凸优化有唯一全局解\n",
    "        return J_his\n",
    "    def predict(self, X):\n",
    "        a=X.shape[0]\n",
    "        pre=np.zeros(a)\n",
    "        for i in range(a):\n",
    "            if (np.dot(self.theta,X[i])+self.b>0):\n",
    "                pre[i]=1\n",
    "            else:\n",
    "                pre[i]=-1\n",
    "        return pre\n",
    "        \"\"\"\n",
    "        Use the trained model to generate prediction probabilities on a new\n",
    "        collection of data points.\n",
    "        \"\"\"\n",
    "t1=time.time()\n",
    "obj2=SVM2(5,100)\n",
    "Jhis=obj2.fit(x,Y,max_iter=5e3)\n",
    "#print(obj2.theta,Jhis)\n",
    "ans=0\n",
    "t2=time.time()\n",
    "for i in range(obj2.num):\n",
    "    #print(np.dot(obj1.theta,x[i])+obj1.b,Y[i])\n",
    "    if ((np.dot(obj2.theta,x[i])+obj2.b)*Y[i]<=0):\n",
    "        ans=ans+1\n",
    "print('err=',ans/obj2.num,'\\n','耗时',t2-t1)\n"
   ]
  },
  {
   "cell_type": "markdown",
   "metadata": {
    "pycharm": {
     "name": "#%% md\n"
    }
   },
   "source": [
    "# construct and train your models"
   ]
  },
  {
   "cell_type": "code",
   "execution_count": 9,
   "metadata": {
    "pycharm": {
     "name": "#%%\n"
    }
   },
   "outputs": [],
   "source": [
    "#generate data\n",
    "from sklearn import svm\n",
    "def test(d,train_size):\n",
    "    X_data, y_data, mislabel = generate_data(d,100+train_size)\n",
    "    print('mislabel rate',mislabel)\n",
    "    # split data\n",
    "    X_train=X_data[:train_size,:]\n",
    "    X_test=X_data[train_size:,:]\n",
    "    Y_data=np.zeros(train_size+100)\n",
    "    for i in range(train_size+100):\n",
    "        Y_data[i]=y_data[i]\n",
    "    y_train=Y_data[:train_size]\n",
    "    y_test=Y_data[train_size:]\n",
    "    # constrcut model and train (remember record time)\n",
    "    t1=time.time()\n",
    "    model2 = SVM2(d,train_size)\n",
    "    model2.fit(X_train,y_train)\n",
    "    t2=time.time()\n",
    "    pre1=model2.predict(X_test)\n",
    "    err1=0\n",
    "    for i in range(y_test.size):\n",
    "        if pre1[i]!=y_test[i]:\n",
    "            err1=err1+1\n",
    "    t_of_svr=t2-t1\n",
    "    e_of_svr=err1/100\n",
    "    #print('error rate of gradient descent=',err1/100,'\\n','cost time',t2-t1)\n",
    "    t1=time.time()\n",
    "    model1 = SVM1(d,train_size)\n",
    "    model1.fit(X_train,y_train)\n",
    "    t2=time.time()\n",
    "    pre1=model1.predict(X_test)\n",
    "    err1=0\n",
    "    for i in range(y_test.size):\n",
    "        if pre1[i]!=y_test[i]:\n",
    "            err1=err1+1\n",
    "    t_of_smo=t2-t1\n",
    "    e_of_smo=err1/100\n",
    "\n",
    "    #print('error rate of SMO=',err1/100,'\\n','cost time',t2-t1)\n",
    "\n",
    "    t1=time.time()\n",
    "    clf=svm.SVC(kernel=\"linear\",C=10)\n",
    "    clf.fit(X_train,y_train)\n",
    "    t2=time.time()\n",
    "    clf\n",
    "    res=clf.predict(X_test)\n",
    "    err1=0\n",
    "    for i in range(X_test.shape[0]):\n",
    "        if res[i]!=y_test[i]:\n",
    "            err1=err1+1\n",
    "    t_of_lib=t2-t1\n",
    "    e_of_lib=err1/100\n",
    "    e=np.zeros(3)\n",
    "    t=np.zeros(3)\n",
    "    e[0]=e_of_lib\n",
    "    e[1]=e_of_smo\n",
    "    e[2]=e_of_svr\n",
    "    t[0]=t_of_lib\n",
    "    t[1]=t_of_smo\n",
    "    t[2]=t_of_svr\n",
    "    return e,t\n",
    "    #print('error rate of sklearn',err1/X_test.shape[0],'time',t2-t1)"
   ]
  },
  {
   "cell_type": "markdown",
   "metadata": {
    "pycharm": {
     "name": "#%% md\n"
    }
   },
   "source": [
    "# predict and compare your results"
   ]
  },
  {
   "cell_type": "code",
   "execution_count": 10,
   "metadata": {
    "pycharm": {
     "name": "#%%\n"
    }
   },
   "outputs": [
    {
     "name": "stdout",
     "output_type": "stream",
     "text": [
      "mislabel rate 0.043\n",
      "mislabel rate 0.038\n",
      "mislabel rate 0.04\n",
      "mislabel rate 0.035\n",
      "mislabel rate 0.043\n",
      "mislabel rate 0.032\n",
      "mislabel rate 0.039\n",
      "mislabel rate 0.041\n",
      "mislabel rate 0.039\n",
      "mislabel rate 0.045\n",
      "mislabel rate 0.036\n",
      "mislabel rate 0.034\n",
      "mislabel rate 0.025\n",
      "mislabel rate 0.03\n",
      "mislabel rate 0.036\n",
      "mislabel rate 0.042\n",
      "mislabel rate 0.037\n",
      "mislabel rate 0.034\n",
      "mislabel rate 0.03\n",
      "mislabel rate 0.041\n",
      "概况如下(重复二十次),每次维数 5 训练集 9000 测试集100 ave of time of lib,smo,svr is 0.4678756594657898 0.8168471932411194 2.70404452085495 ave of test error rate of lib,smo,svr is 0.046 0.131 0.0905\n"
     ]
    }
   ],
   "source": [
    "d=5\n",
    "t_of_lib=np.zeros(20)\n",
    "t_of_smo=np.zeros(20)\n",
    "t_of_svr=np.zeros(20)\n",
    "e_of_lib=np.zeros(20)\n",
    "e_of_smo=np.zeros(20)\n",
    "e_of_svr=np.zeros(20)\n",
    "for i in range(20):\n",
    "    e,t=test(d,900)\n",
    "    t_of_lib[i]=t[0]\n",
    "    t_of_smo[i]=t[1]\n",
    "    t_of_svr[i]=t[2]\n",
    "    e_of_lib[i]=e[0]\n",
    "    e_of_smo[i]=e[1]\n",
    "    e_of_svr[i]=e[2]\n",
    "print('概况如下(重复二十次),每次维数',d,'训练集',900,'测试集100 ave of time of lib,smo,svr is',t_of_lib.mean(),t_of_smo.mean(),t_of_svr.mean(),'ave of test error rate of lib,smo,svr is',e_of_lib.mean(),e_of_smo.mean(),e_of_svr.mean())"
   ]
  },
  {
   "cell_type": "code",
   "execution_count": null,
   "outputs": [
    {
     "name": "stdout",
     "output_type": "stream",
     "text": [
      "mislabel rate 0.034516129032258064\n",
      "mislabel rate 0.04548387096774194\n",
      "mislabel rate 0.036774193548387096\n",
      "mislabel rate 0.03741935483870968\n",
      "mislabel rate 0.037096774193548385\n",
      "mislabel rate 0.03354838709677419\n",
      "mislabel rate 0.036774193548387096\n",
      "mislabel rate 0.04387096774193548\n"
     ]
    }
   ],
   "source": [
    "d=5\n",
    "t_of_lib=np.zeros(20)\n",
    "t_of_smo=np.zeros(20)\n",
    "t_of_svr=np.zeros(20)\n",
    "e_of_lib=np.zeros(20)\n",
    "e_of_smo=np.zeros(20)\n",
    "e_of_svr=np.zeros(20)\n",
    "for i in range(20):\n",
    "    e,t=test(d,3000)\n",
    "    t_of_lib[i]=t[0]\n",
    "    t_of_smo[i]=t[1]\n",
    "    t_of_svr[i]=t[2]\n",
    "    e_of_lib[i]=e[0]\n",
    "    e_of_smo[i]=e[1]\n",
    "    e_of_svr[i]=e[2]\n",
    "print('概况如下(重复二十次),每次维数',d,'训练集',3000,'测试集100 ave of time of lib,smo,svr is',t_of_lib.mean(),t_of_smo.mean(),t_of_svr.mean(),'ave of test error rate of lib,smo,svr is',e_of_lib.mean(),e_of_smo.mean(),e_of_svr.mean())"
   ],
   "metadata": {
    "collapsed": false,
    "pycharm": {
     "name": "#%%\n",
     "is_executing": true
    }
   }
  },
  {
   "cell_type": "code",
   "execution_count": 12,
   "outputs": [
    {
     "name": "stdout",
     "output_type": "stream",
     "text": [
      "mislabel rate 0.034193548387096775\n",
      "mislabel rate 0.03870967741935484\n",
      "mislabel rate 0.03903225806451613\n",
      "mislabel rate 0.046129032258064515\n",
      "mislabel rate 0.037096774193548385\n",
      "mislabel rate 0.035483870967741936\n",
      "mislabel rate 0.02903225806451613\n",
      "mislabel rate 0.03193548387096774\n",
      "mislabel rate 0.037096774193548385\n",
      "mislabel rate 0.041935483870967745\n",
      "mislabel rate 0.04225806451612903\n",
      "mislabel rate 0.03645161290322581\n",
      "mislabel rate 0.03870967741935484\n",
      "mislabel rate 0.038387096774193545\n",
      "mislabel rate 0.03870967741935484\n",
      "mislabel rate 0.03387096774193549\n",
      "mislabel rate 0.037096774193548385\n",
      "mislabel rate 0.03129032258064516\n",
      "mislabel rate 0.03645161290322581\n",
      "mislabel rate 0.03483870967741935\n",
      "概况如下(重复二十次),每次维数 50 训练集 900 测试集100 ave of time of lib,smo,svr is 105.18166542053223 7.095215964317322 4.616285240650177 ave of test error rate of lib,smo,svr is 0.05250000000000001 0.10900000000000003 0.10900000000000001\n"
     ]
    }
   ],
   "source": [
    "d=50\n",
    "t_of_lib=np.zeros(20)\n",
    "t_of_smo=np.zeros(20)\n",
    "t_of_svr=np.zeros(20)\n",
    "e_of_lib=np.zeros(20)\n",
    "e_of_smo=np.zeros(20)\n",
    "e_of_svr=np.zeros(20)\n",
    "for i in range(20):\n",
    "    e,t=test(d,3000)\n",
    "    t_of_lib[i]=t[0]\n",
    "    t_of_smo[i]=t[1]\n",
    "    t_of_svr[i]=t[2]\n",
    "    e_of_lib[i]=e[0]\n",
    "    e_of_smo[i]=e[1]\n",
    "    e_of_svr[i]=e[2]\n",
    "print('概况如下(重复二十次),每次维数',d,'训练集',900,'测试集100 ave of time of lib,smo,svr is',t_of_lib.mean(),t_of_smo.mean(),t_of_svr.mean(),'ave of test error rate of lib,smo,svr is',e_of_lib.mean(),e_of_smo.mean(),e_of_svr.mean())"
   ],
   "metadata": {
    "collapsed": false,
    "pycharm": {
     "name": "#%%\n"
    }
   }
  },
  {
   "cell_type": "code",
   "execution_count": null,
   "outputs": [],
   "source": [],
   "metadata": {
    "collapsed": false,
    "pycharm": {
     "name": "#%%\n",
     "is_executing": true
    }
   }
  },
  {
   "cell_type": "code",
   "execution_count": 23,
   "outputs": [],
   "source": [],
   "metadata": {
    "collapsed": false,
    "pycharm": {
     "name": "#%%\n"
    }
   }
  }
 ],
 "metadata": {
  "kernelspec": {
   "display_name": "Python 3",
   "language": "python",
   "name": "python3"
  },
  "language_info": {
   "codemirror_mode": {
    "name": "ipython",
    "version": 3
   },
   "file_extension": ".py",
   "mimetype": "text/x-python",
   "name": "python",
   "nbconvert_exporter": "python",
   "pygments_lexer": "ipython3",
   "version": "3.8.5"
  },
  "toc": {
   "base_numbering": 1,
   "nav_menu": {},
   "number_sections": true,
   "sideBar": true,
   "skip_h1_title": false,
   "title_cell": "Table of Contents",
   "title_sidebar": "Contents",
   "toc_cell": false,
   "toc_position": {},
   "toc_section_display": true,
   "toc_window_display": false
  }
 },
 "nbformat": 4,
 "nbformat_minor": 4
}
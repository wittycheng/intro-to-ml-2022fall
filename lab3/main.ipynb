{
 "cells": [
  {
   "cell_type": "code",
   "execution_count": 1,
   "metadata": {
    "collapsed": true,
    "pycharm": {
     "name": "#%%\n"
    }
   },
   "outputs": [],
   "source": [
    "import math\n",
    "\n",
    "import numpy as np\n",
    "import pandas as pd\n",
    "from multiprocessing import process,queues\n",
    "from matplotlib import pyplot as plt"
   ]
  },
  {
   "cell_type": "code",
   "execution_count": 2,
   "outputs": [],
   "source": [
    "df = pd.read_csv('train.data',names=[i for i in range(41)])\n",
    "m,n=df.shape#m=7k,n=14\n",
    "X=df.iloc[:,:40]\n",
    "y=df.iloc[:,[40]]\n",
    "#index是样本编号"
   ],
   "metadata": {
    "collapsed": false,
    "pycharm": {
     "name": "#%%\n"
    }
   }
  },
  {
   "cell_type": "code",
   "execution_count": 2,
   "outputs": [],
   "source": [],
   "metadata": {
    "collapsed": false,
    "pycharm": {
     "name": "#%%\n"
    }
   }
  },
  {
   "cell_type": "code",
   "execution_count": 3,
   "outputs": [],
   "source": [
    "class DevisionTree(object):\n",
    "    def __init__(self):\n",
    "        self.lchild=None\n",
    "        self.rchild=None\n",
    "        self.div_column=None\n",
    "        self.div_value=None\n",
    "        self.is_leaf=False\n",
    "        self.leaf_value=None\n",
    "        #二叉树结构，\n"
   ],
   "metadata": {
    "collapsed": false,
    "pycharm": {
     "name": "#%%\n"
    }
   }
  },
  {
   "cell_type": "code",
   "execution_count": 4,
   "outputs": [],
   "source": [
    "def loss(y1,y2):\n",
    "    y11 =np.transpose( np.array(y1))[0]\n",
    "    y22 =np.transpose( np.array(y2))[0]\n",
    "    return np.dot(y11-y22,y11-y22)\n",
    "def gradient(y1,y2):\n",
    "    y11 = np.array(y1)\n",
    "    y22 = np.array(y2)\n",
    "    return -2*sum(y11-y22)[0]\n",
    "def Henie(y1,y2):\n",
    "    return len(y1)*2\n",
    "def _object(y1,y2,lambda_,gama_):\n",
    "    return -1/2*(gradient(y1,y2)**2)/(Henie(y1,y2)+lambda_)+gama_\n",
    "def calc_w(y1,y2,lambda_):\n",
    "    return -gradient(y1,y2)**2/(Henie(y1,y2)+lambda_)"
   ],
   "metadata": {
    "collapsed": false,
    "pycharm": {
     "name": "#%%\n"
    }
   }
  },
  {
   "cell_type": "code",
   "execution_count": 5,
   "outputs": [],
   "source": [
    "\n",
    "#从上次的训练结果result和训练集的样本y得到新的决策树\n",
    "def regress_one_tree(min_width,max_depth,train_data,train_res,results,lambda_,gamma_,depth,tree_node):#results 是上次的结果（yt-1） train_res是原始的\n",
    "    if len(results)<min_width or depth>=max_depth:\n",
    "        tree_node.is_leaf=True\n",
    "        #print(train_res)\n",
    "        tree_node.leaf_value= sum(np.array(train_res-results)) /len(train_res)\n",
    "        #tree_node.leaf_value=calc_w(train_res,results,lambda_)\n",
    "        return\n",
    "    max_obj=-float('inf')\n",
    "    best_column=-1\n",
    "    best_value=None\n",
    "    for col in train_data.columns:\n",
    "        val=np.transpose(np.array(train_data.loc[:,col].drop_duplicates()))\n",
    "        #print(val)\n",
    "        max_val=max(val)\n",
    "        for v in val:\n",
    "            #print(v)\n",
    "            if v==max_val:\n",
    "                continue\n",
    "\n",
    "            y_left=train_res.loc[train_data[train_data[col] <= v].index, :]\n",
    "            y_right=train_res.loc[train_data[train_data[col] > v].index, :]\n",
    "            res_left=results.loc[train_data[train_data[col] <= v].index, :]\n",
    "            res_right=results.loc[train_data[train_data[col] > v].index, :]\n",
    "            o_now=_object(train_res,results,lambda_,gamma_)\n",
    "            o_left=_object(y_left,res_left,lambda_,gamma_)\n",
    "            o_right=_object(y_right,res_right,lambda_,gamma_)\n",
    "            #print(o_now)\n",
    "            #print(o_now-o_right-o_left)\n",
    "            if o_now-o_right-o_left>max_obj:\n",
    "                max_obj=o_now-o_right-o_left\n",
    "                best_column=col\n",
    "                best_value=v\n",
    "    #print(max_obj)\n",
    "        # if max_obj<=0:\n",
    "        #     tree_node.is_leaf=True\n",
    "        #     tree_node.leaf_value= sum(np.transpose(np.array(results)).tolist()[0]) /len(results.index)\n",
    "        #     return\n",
    "    tree_node.is_leaf=False\n",
    "    tree_node.div_column=best_column\n",
    "    tree_node.div_value=best_value\n",
    "    tree_node.lchild=DevisionTree()\n",
    "    tree_node.rchild=DevisionTree()\n",
    "    y_left=train_res.loc[train_data[train_data[best_column]<=best_value].index,:]\n",
    "    y_right=train_res.loc[train_data[train_data[best_column]>best_value].index,:]\n",
    "    res_left=results.loc[train_data[train_data[best_column]<=best_value].index,:]\n",
    "    res_right=results.loc[train_data[train_data[best_column]>best_value].index,:]\n",
    "\n",
    "\n",
    "    x_left=train_data.loc[train_data[train_data[best_column]<=best_value].index,:].drop(best_column,axis=1)\n",
    "    x_right=train_data.loc[train_data[train_data[best_column]>best_value].index,:].drop(best_column,axis=1)\n",
    "    regress_one_tree(min_width,max_depth,x_left,y_left,res_left,lambda_,gamma_,depth+1,tree_node.lchild)\n",
    "    regress_one_tree(min_width,max_depth,x_right,y_right,res_right,lambda_,gamma_,depth+1,tree_node.rchild)"
   ],
   "metadata": {
    "collapsed": false,
    "pycharm": {
     "name": "#%%\n"
    }
   }
  },
  {
   "cell_type": "code",
   "execution_count": 23,
   "outputs": [],
   "source": [
    "#     class DevisionTree(object):\n",
    "#     def __init__(self):\n",
    "#         self.lchild=None\n",
    "#         self.rchild=None\n",
    "#         self.div_column=None\n",
    "#         self.div_value=None\n",
    "#         self.is_leaf=False\n",
    "#         self.leaf_value=None\n",
    "#predict one tree\n",
    "def predict_one_example(tree,x):\n",
    "    if tree.is_leaf:\n",
    "        return tree.leaf_value\n",
    "    col=tree.div_column\n",
    "    value=tree.div_value\n",
    "    #print(x[col],value)\n",
    "    if x[col]>value:\n",
    "        return predict_one_example(tree.rchild,x)\n",
    "    else :\n",
    "        return predict_one_example(tree.lchild,x)\n",
    "def predict(tree,XX):\n",
    "    #print(XX.index)\n",
    "    res=pd.DataFrame([0]*len(XX.index),index=XX.index,columns=[40])\n",
    "    for i in XX.index:#给每行（每个样本）做预测\n",
    "        x=XX.loc[i,:]\n",
    "        res.loc[i,40]=predict_one_example(tree=tree,x=x)\n",
    "    return res\n",
    "\n",
    "# def predict_result(tree, feature):\n",
    "#     if tree.is_leaf:\n",
    "#         return tree.leaf_value\n",
    "#     else:\n",
    "#         if feature[tree.div_column] <= tree.div_value:\n",
    "#             return predict_result(tree.lchild, feature)\n",
    "#         else:\n",
    "#             return predict_result(tree.rchild, feature)\n",
    "# def predict(tree, features):\n",
    "#     result_data = pd.DataFrame([0] * len(features.index), index = features.index)\n",
    "#     print(features,result_data)\n",
    "#     for x in range(len(features.index)):\n",
    "#         result_data.iloc[x, 0] = predict_result(tree, features.iloc[x, :])\n",
    "#     return result_data\n"
   ],
   "metadata": {
    "collapsed": false,
    "pycharm": {
     "name": "#%%\n"
    }
   }
  },
  {
   "cell_type": "code",
   "execution_count": 24,
   "outputs": [
    {
     "name": "stdout",
     "output_type": "stream",
     "text": [
      "       0   1     2     3     4    5   6   7      8    9   ...   30   31  \\\n",
      "0       2 -56 -0.33 -0.09  0.90  0.2 -11  12  0.004 -0.1  ...  0.0  0.0   \n",
      "1     470 -39  0.02  0.12  0.39 -0.6 -12   8  0.009 -1.6  ...  0.0  0.0   \n",
      "2     165   4  0.14  0.14  0.78  0.4 -11  -9 -0.003 -0.2  ...  0.0  0.0   \n",
      "3    -113   5 -0.12  0.11  1.06  0.6 -10  -7 -0.008  0.0  ...  0.0  0.0   \n",
      "4    -411 -21 -0.17  0.07  1.33 -0.6 -11   0  0.002  0.1  ...  0.0  0.0   \n",
      "...   ...  ..   ...   ...   ...  ...  ..  ..    ...  ...  ...  ...  ...   \n",
      "7149 -445  -9  0.20 -0.02  0.88 -0.2  -8   7 -0.002 -0.8  ...  0.0  0.0   \n",
      "7150    9  20 -0.04 -0.03  0.47 -0.6  -9   6  0.002  0.0  ...  0.0  0.0   \n",
      "7151   50  23  0.14  0.02  0.45 -0.5  -8   1  0.005 -0.1  ...  0.0  0.0   \n",
      "7152   53  23  0.17  0.02  0.45 -0.4  -8   1  0.005 -0.1  ...  0.0  0.0   \n",
      "7153  -84  23 -0.13  0.04  0.58  0.2  -8  -3 -0.005  0.0  ...  0.0  0.0   \n",
      "\n",
      "         32   33   34   35     36   37   38     39  \n",
      "0     0.000  0.0  0.0  0.0  0.000  0.0  0.9  0.032  \n",
      "1     0.000  0.0  0.0  0.0  0.000  0.0  0.9  0.034  \n",
      "2     0.000  0.0  0.0  0.0  0.000  0.0  1.0  0.034  \n",
      "3     0.000  0.0  0.0  0.0  0.000  0.0  0.9  0.033  \n",
      "4     0.000  0.0  0.0  0.0 -0.002  0.0  0.9  0.032  \n",
      "...     ...  ...  ...  ...    ...  ...  ...    ...  \n",
      "7149  0.000  0.0  0.0  0.0  0.001  0.0  0.5  0.017  \n",
      "7150  0.001  0.0  0.0  0.0  0.000  0.0  0.5  0.017  \n",
      "7151  0.000  0.0  0.0  0.0  0.000  0.0  0.5  0.017  \n",
      "7152  0.000  0.0  0.0  0.0  0.000  0.0  0.5  0.017  \n",
      "7153  0.000  0.0  0.0  0.0  0.000  0.0  0.5  0.018  \n",
      "\n",
      "[7154 rows x 40 columns]       0\n",
      "0     0\n",
      "1     0\n",
      "2     0\n",
      "3     0\n",
      "4     0\n",
      "...  ..\n",
      "7149  0\n",
      "7150  0\n",
      "7151  0\n",
      "7152  0\n",
      "7153  0\n",
      "\n",
      "[7154 rows x 1 columns]\n",
      "      0\n",
      "0     2\n",
      "1     2\n",
      "2     2\n",
      "3     2\n",
      "4     2\n",
      "...  ..\n",
      "7149  2\n",
      "7150  2\n",
      "7151  2\n",
      "7152  2\n",
      "7153  2\n",
      "\n",
      "[7154 rows x 1 columns]\n"
     ]
    }
   ],
   "source": [
    "tre=DevisionTree()\n",
    "tre.is_leaf=True\n",
    "tre.leaf_value=2\n",
    "result_data = pd.DataFrame([0] * len(X.index), index = X.index,columns=[0])\n",
    "print(X,result_data)\n",
    "for a in range(len(X.index)):\n",
    "    result_data.loc[a, 0] =predict_one_example(tre, X.loc[a, :])\n",
    "print(result_data)"
   ],
   "metadata": {
    "collapsed": false,
    "pycharm": {
     "name": "#%%\n"
    }
   }
  },
  {
   "cell_type": "code",
   "execution_count": 25,
   "outputs": [],
   "source": [
    "#test\n",
    "# root=DevisionTree()\n",
    "# #\n",
    "# regress_one_tree(min_width=10,max_depth=3,train_data=X,train_res=y,results=y-y,lambda_=1e-3,gamma_=1e-6,depth=0,tree_node=root)\n",
    "#print(type(root))\n",
    "# pre=predict(root,X)\n",
    "# a=loss(pre,y)\n",
    "# print(a)\n",
    "#现在每个单元的决策树已经就建立完毕，现在建立xgbt的加法"
   ],
   "metadata": {
    "collapsed": false,
    "pycharm": {
     "name": "#%%\n"
    }
   }
  },
  {
   "cell_type": "code",
   "execution_count": 26,
   "outputs": [],
   "source": [
    "class xg():\n",
    "    def __init__(self,X,y,lambda_=0.1,gamma_=0.000001,depth=5, least_width = 70,iter_=5):\n",
    "        self.J=[]\n",
    "        self.roots=[]\n",
    "        self.gamma_=gamma_\n",
    "        self.lambda_=lambda_\n",
    "        self.trees=[]\n",
    "        self.X=X\n",
    "        self.y=y\n",
    "        self.lr=1\n",
    "        self.iter=iter_\n",
    "        self.miniwidth=least_width\n",
    "        self.max_depth=depth\n",
    "        self.res=pd.DataFrame([0] * len(X.index), index = X.index,columns=[40])\n",
    "    def update_RES(self,tree):\n",
    "        pre=predict(tree,self.X)\n",
    "        self.res+=self.lr*pre\n",
    "        self.trees.append(tree)\n",
    "        self.J.append(loss(self.res,self.y))\n",
    "    def train_a_model(self):\n",
    "        self.trees=[]\n",
    "        for i in range(int (self.iter)):\n",
    "            new_tree=DevisionTree()\n",
    "        #regress_one_tree(min_width,max_depth,train_data,train_res,results,lambda_,gamma_,depth,tree_node)\\n\",\n",
    "            regress_one_tree(min_width=self.miniwidth,max_depth=self.max_depth,train_data=self.X,train_res=self.y,results=self.res,lambda_=self.lambda_,gamma_=self.gamma_,depth=0,tree_node=new_tree)\n",
    "            self.update_RES(new_tree)\n",
    "         #print(self.X,self.y,self.res)\\n\",\n",
    "    # def __init__(self,X,y,lambda_=0.1,gamma_=0.000001,depth=4, least_width = 70,iter_=4):\n",
    "    #     self.J=[]\n",
    "    #     self.roots=[]\n",
    "    #     self.gamma_=gamma_\n",
    "    #     self.lambda_=lambda_\n",
    "    #     self.trees=[]\n",
    "    #     self.y=y\n",
    "    #     self.X=X\n",
    "    #     self.lr=1\n",
    "    #     self.iter=iter_\n",
    "    #     self.miniwidth=least_width\n",
    "    #     self.max_depth=depth\n",
    "    #     self.res= pd.DataFrame({\"regressions\": [0] * len(self.X.index)},index = self.X.index, columns = [\"regressions\"])\n",
    "    # def update_RES(self,tree):\n",
    "    #     pre=predict(tree,self.X)\n",
    "    #     self.res+=self.lr*pre\n",
    "    #     self.trees.append(tree)\n",
    "    #     self.J.append(loss(self.res,self.y))\n",
    "    #     return\n",
    "    # def train_a_model(self):\n",
    "    #     self.trees=[]\n",
    "    #     for i in range(int (self.iter)):\n",
    "    #         new_tree=DevisionTree()\n",
    "    #         #regress_one_tree(min_width,max_depth,train_data,train_res,results,lambda_,gamma_,depth,tree_node)\n",
    "    #         regress_one_tree(min_width=self.miniwidth,max_depth=self.max_depth,train_data=self.X,train_res=self.y,results=self.res,lambda_=self.lambda_,gamma_=self.gamma_,depth=0,tree_node=new_tree)\n",
    "    #         self.update_RES(new_tree)\n",
    "    #         #print(self.X,self.y,self.res)\n",
    "    # def run_XGBoost(self,features):\n",
    "    #     do_feature = features\n",
    "    #     do_result = pd.DataFrame({\"results\": [0] * len(features.index)}, index =features.index, columns = [\"regressions\"])\n",
    "    #     regression_data = pd.DataFrame({\"regressions\": [0] * len(features.index)},index = features.index, columns = [\"regressions\"])\n",
    "    #     for t_root in self.trees:\n",
    "    #         new_result = predict(t_root, do_feature)\n",
    "    #     do_result, regression_data = self.update_RES(do_result,regression_data, new_result)\n",
    "\n",
    "# moxing=xg(X,y)\n",
    "# moxing.train_a_model()\n",
    "# a=np.linspace(0,len(moxing.J)-1,endpoint=True,num=len(moxing.J))\n",
    "# plt.plot(a,moxing.J)"
   ],
   "metadata": {
    "collapsed": false,
    "pycharm": {
     "name": "#%%\n"
    }
   }
  },
  {
   "cell_type": "code",
   "execution_count": 27,
   "outputs": [
    {
     "name": "stdout",
     "output_type": "stream",
     "text": [
      "       0   1     2     3     4    5   6   7      8    9   ...   30   31  \\\n",
      "0       2 -56 -0.33 -0.09  0.90  0.2 -11  12  0.004 -0.1  ...  0.0  0.0   \n",
      "1     470 -39  0.02  0.12  0.39 -0.6 -12   8  0.009 -1.6  ...  0.0  0.0   \n",
      "2     165   4  0.14  0.14  0.78  0.4 -11  -9 -0.003 -0.2  ...  0.0  0.0   \n",
      "3    -113   5 -0.12  0.11  1.06  0.6 -10  -7 -0.008  0.0  ...  0.0  0.0   \n",
      "4    -411 -21 -0.17  0.07  1.33 -0.6 -11   0  0.002  0.1  ...  0.0  0.0   \n",
      "...   ...  ..   ...   ...   ...  ...  ..  ..    ...  ...  ...  ...  ...   \n",
      "7149 -445  -9  0.20 -0.02  0.88 -0.2  -8   7 -0.002 -0.8  ...  0.0  0.0   \n",
      "7150    9  20 -0.04 -0.03  0.47 -0.6  -9   6  0.002  0.0  ...  0.0  0.0   \n",
      "7151   50  23  0.14  0.02  0.45 -0.5  -8   1  0.005 -0.1  ...  0.0  0.0   \n",
      "7152   53  23  0.17  0.02  0.45 -0.4  -8   1  0.005 -0.1  ...  0.0  0.0   \n",
      "7153  -84  23 -0.13  0.04  0.58  0.2  -8  -3 -0.005  0.0  ...  0.0  0.0   \n",
      "\n",
      "         32   33   34   35     36   37   38     39  \n",
      "0     0.000  0.0  0.0  0.0  0.000  0.0  0.9  0.032  \n",
      "1     0.000  0.0  0.0  0.0  0.000  0.0  0.9  0.034  \n",
      "2     0.000  0.0  0.0  0.0  0.000  0.0  1.0  0.034  \n",
      "3     0.000  0.0  0.0  0.0  0.000  0.0  0.9  0.033  \n",
      "4     0.000  0.0  0.0  0.0 -0.002  0.0  0.9  0.032  \n",
      "...     ...  ...  ...  ...    ...  ...  ...    ...  \n",
      "7149  0.000  0.0  0.0  0.0  0.001  0.0  0.5  0.017  \n",
      "7150  0.001  0.0  0.0  0.0  0.000  0.0  0.5  0.017  \n",
      "7151  0.000  0.0  0.0  0.0  0.000  0.0  0.5  0.017  \n",
      "7152  0.000  0.0  0.0  0.0  0.000  0.0  0.5  0.017  \n",
      "7153  0.000  0.0  0.0  0.0  0.000  0.0  0.5  0.018  \n",
      "\n",
      "[7154 rows x 40 columns] <class 'pandas.core.frame.DataFrame'>\n"
     ]
    },
    {
     "ename": "KeyboardInterrupt",
     "evalue": "",
     "output_type": "error",
     "traceback": [
      "\u001B[1;31m---------------------------------------------------------------------------\u001B[0m",
      "\u001B[1;31mKeyboardInterrupt\u001B[0m                         Traceback (most recent call last)",
      "Input \u001B[1;32mIn [27]\u001B[0m, in \u001B[0;36m<cell line: 16>\u001B[1;34m()\u001B[0m\n\u001B[0;32m     14\u001B[0m y2\u001B[38;5;241m=\u001B[39mpd\u001B[38;5;241m.\u001B[39mDataFrame(y2)\n\u001B[0;32m     15\u001B[0m M\u001B[38;5;241m=\u001B[39mxg(x1,y1)\n\u001B[1;32m---> 16\u001B[0m \u001B[43mM\u001B[49m\u001B[38;5;241;43m.\u001B[39;49m\u001B[43mtrain_a_model\u001B[49m\u001B[43m(\u001B[49m\u001B[43m)\u001B[49m\n\u001B[0;32m     17\u001B[0m rres\u001B[38;5;241m=\u001B[39mpd\u001B[38;5;241m.\u001B[39mDataFrame([\u001B[38;5;241m0\u001B[39m] \u001B[38;5;241m*\u001B[39m \u001B[38;5;28mlen\u001B[39m(x2\u001B[38;5;241m.\u001B[39mindex), index \u001B[38;5;241m=\u001B[39m x2\u001B[38;5;241m.\u001B[39mindex,columns\u001B[38;5;241m=\u001B[39m[\u001B[38;5;241m40\u001B[39m])\n\u001B[0;32m     18\u001B[0m \u001B[38;5;28;01mfor\u001B[39;00m tree \u001B[38;5;129;01min\u001B[39;00m M\u001B[38;5;241m.\u001B[39mtrees:\n",
      "Input \u001B[1;32mIn [26]\u001B[0m, in \u001B[0;36mxg.train_a_model\u001B[1;34m(self)\u001B[0m\n\u001B[0;32m     23\u001B[0m     new_tree\u001B[38;5;241m=\u001B[39mDevisionTree()\n\u001B[0;32m     24\u001B[0m \u001B[38;5;66;03m#regress_one_tree(min_width,max_depth,train_data,train_res,results,lambda_,gamma_,depth,tree_node)\\n\",\u001B[39;00m\n\u001B[1;32m---> 25\u001B[0m     \u001B[43mregress_one_tree\u001B[49m\u001B[43m(\u001B[49m\u001B[43mmin_width\u001B[49m\u001B[38;5;241;43m=\u001B[39;49m\u001B[38;5;28;43mself\u001B[39;49m\u001B[38;5;241;43m.\u001B[39;49m\u001B[43mminiwidth\u001B[49m\u001B[43m,\u001B[49m\u001B[43mmax_depth\u001B[49m\u001B[38;5;241;43m=\u001B[39;49m\u001B[38;5;28;43mself\u001B[39;49m\u001B[38;5;241;43m.\u001B[39;49m\u001B[43mmax_depth\u001B[49m\u001B[43m,\u001B[49m\u001B[43mtrain_data\u001B[49m\u001B[38;5;241;43m=\u001B[39;49m\u001B[38;5;28;43mself\u001B[39;49m\u001B[38;5;241;43m.\u001B[39;49m\u001B[43mX\u001B[49m\u001B[43m,\u001B[49m\u001B[43mtrain_res\u001B[49m\u001B[38;5;241;43m=\u001B[39;49m\u001B[38;5;28;43mself\u001B[39;49m\u001B[38;5;241;43m.\u001B[39;49m\u001B[43my\u001B[49m\u001B[43m,\u001B[49m\u001B[43mresults\u001B[49m\u001B[38;5;241;43m=\u001B[39;49m\u001B[38;5;28;43mself\u001B[39;49m\u001B[38;5;241;43m.\u001B[39;49m\u001B[43mres\u001B[49m\u001B[43m,\u001B[49m\u001B[43mlambda_\u001B[49m\u001B[38;5;241;43m=\u001B[39;49m\u001B[38;5;28;43mself\u001B[39;49m\u001B[38;5;241;43m.\u001B[39;49m\u001B[43mlambda_\u001B[49m\u001B[43m,\u001B[49m\u001B[43mgamma_\u001B[49m\u001B[38;5;241;43m=\u001B[39;49m\u001B[38;5;28;43mself\u001B[39;49m\u001B[38;5;241;43m.\u001B[39;49m\u001B[43mgamma_\u001B[49m\u001B[43m,\u001B[49m\u001B[43mdepth\u001B[49m\u001B[38;5;241;43m=\u001B[39;49m\u001B[38;5;241;43m0\u001B[39;49m\u001B[43m,\u001B[49m\u001B[43mtree_node\u001B[49m\u001B[38;5;241;43m=\u001B[39;49m\u001B[43mnew_tree\u001B[49m\u001B[43m)\u001B[49m\n\u001B[0;32m     26\u001B[0m     \u001B[38;5;28mself\u001B[39m\u001B[38;5;241m.\u001B[39mupdate_RES(new_tree)\n",
      "Input \u001B[1;32mIn [5]\u001B[0m, in \u001B[0;36mregress_one_tree\u001B[1;34m(min_width, max_depth, train_data, train_res, results, lambda_, gamma_, depth, tree_node)\u001B[0m\n\u001B[0;32m     18\u001B[0m \u001B[38;5;28;01mif\u001B[39;00m v\u001B[38;5;241m==\u001B[39mmax_val:\n\u001B[0;32m     19\u001B[0m     \u001B[38;5;28;01mcontinue\u001B[39;00m\n\u001B[1;32m---> 21\u001B[0m y_left\u001B[38;5;241m=\u001B[39mtrain_res\u001B[38;5;241m.\u001B[39mloc[train_data[\u001B[43mtrain_data\u001B[49m\u001B[43m[\u001B[49m\u001B[43mcol\u001B[49m\u001B[43m]\u001B[49m\u001B[43m \u001B[49m\u001B[38;5;241;43m<\u001B[39;49m\u001B[38;5;241;43m=\u001B[39;49m\u001B[43m \u001B[49m\u001B[43mv\u001B[49m]\u001B[38;5;241m.\u001B[39mindex, :]\n\u001B[0;32m     22\u001B[0m y_right\u001B[38;5;241m=\u001B[39mtrain_res\u001B[38;5;241m.\u001B[39mloc[train_data[train_data[col] \u001B[38;5;241m>\u001B[39m v]\u001B[38;5;241m.\u001B[39mindex, :]\n\u001B[0;32m     23\u001B[0m res_left\u001B[38;5;241m=\u001B[39mresults\u001B[38;5;241m.\u001B[39mloc[train_data[train_data[col] \u001B[38;5;241m<\u001B[39m\u001B[38;5;241m=\u001B[39m v]\u001B[38;5;241m.\u001B[39mindex, :]\n",
      "File \u001B[1;32mD:\\anaconda\\lib\\site-packages\\pandas\\core\\ops\\common.py:70\u001B[0m, in \u001B[0;36m_unpack_zerodim_and_defer.<locals>.new_method\u001B[1;34m(self, other)\u001B[0m\n\u001B[0;32m     66\u001B[0m             \u001B[38;5;28;01mreturn\u001B[39;00m \u001B[38;5;28mNotImplemented\u001B[39m\n\u001B[0;32m     68\u001B[0m other \u001B[38;5;241m=\u001B[39m item_from_zerodim(other)\n\u001B[1;32m---> 70\u001B[0m \u001B[38;5;28;01mreturn\u001B[39;00m \u001B[43mmethod\u001B[49m\u001B[43m(\u001B[49m\u001B[38;5;28;43mself\u001B[39;49m\u001B[43m,\u001B[49m\u001B[43m \u001B[49m\u001B[43mother\u001B[49m\u001B[43m)\u001B[49m\n",
      "File \u001B[1;32mD:\\anaconda\\lib\\site-packages\\pandas\\core\\arraylike.py:52\u001B[0m, in \u001B[0;36mOpsMixin.__le__\u001B[1;34m(self, other)\u001B[0m\n\u001B[0;32m     50\u001B[0m \u001B[38;5;129m@unpack_zerodim_and_defer\u001B[39m(\u001B[38;5;124m\"\u001B[39m\u001B[38;5;124m__le__\u001B[39m\u001B[38;5;124m\"\u001B[39m)\n\u001B[0;32m     51\u001B[0m \u001B[38;5;28;01mdef\u001B[39;00m \u001B[38;5;21m__le__\u001B[39m(\u001B[38;5;28mself\u001B[39m, other):\n\u001B[1;32m---> 52\u001B[0m     \u001B[38;5;28;01mreturn\u001B[39;00m \u001B[38;5;28;43mself\u001B[39;49m\u001B[38;5;241;43m.\u001B[39;49m\u001B[43m_cmp_method\u001B[49m\u001B[43m(\u001B[49m\u001B[43mother\u001B[49m\u001B[43m,\u001B[49m\u001B[43m \u001B[49m\u001B[43moperator\u001B[49m\u001B[38;5;241;43m.\u001B[39;49m\u001B[43mle\u001B[49m\u001B[43m)\u001B[49m\n",
      "File \u001B[1;32mD:\\anaconda\\lib\\site-packages\\pandas\\core\\series.py:5623\u001B[0m, in \u001B[0;36mSeries._cmp_method\u001B[1;34m(self, other, op)\u001B[0m\n\u001B[0;32m   5620\u001B[0m rvalues \u001B[38;5;241m=\u001B[39m extract_array(other, extract_numpy\u001B[38;5;241m=\u001B[39m\u001B[38;5;28;01mTrue\u001B[39;00m, extract_range\u001B[38;5;241m=\u001B[39m\u001B[38;5;28;01mTrue\u001B[39;00m)\n\u001B[0;32m   5622\u001B[0m \u001B[38;5;28;01mwith\u001B[39;00m np\u001B[38;5;241m.\u001B[39merrstate(\u001B[38;5;28mall\u001B[39m\u001B[38;5;241m=\u001B[39m\u001B[38;5;124m\"\u001B[39m\u001B[38;5;124mignore\u001B[39m\u001B[38;5;124m\"\u001B[39m):\n\u001B[1;32m-> 5623\u001B[0m     res_values \u001B[38;5;241m=\u001B[39m \u001B[43mops\u001B[49m\u001B[38;5;241;43m.\u001B[39;49m\u001B[43mcomparison_op\u001B[49m\u001B[43m(\u001B[49m\u001B[43mlvalues\u001B[49m\u001B[43m,\u001B[49m\u001B[43m \u001B[49m\u001B[43mrvalues\u001B[49m\u001B[43m,\u001B[49m\u001B[43m \u001B[49m\u001B[43mop\u001B[49m\u001B[43m)\u001B[49m\n\u001B[0;32m   5625\u001B[0m \u001B[38;5;28;01mreturn\u001B[39;00m \u001B[38;5;28mself\u001B[39m\u001B[38;5;241m.\u001B[39m_construct_result(res_values, name\u001B[38;5;241m=\u001B[39mres_name)\n",
      "File \u001B[1;32mD:\\anaconda\\lib\\site-packages\\pandas\\core\\ops\\array_ops.py:286\u001B[0m, in \u001B[0;36mcomparison_op\u001B[1;34m(left, right, op)\u001B[0m\n\u001B[0;32m    283\u001B[0m     res_values \u001B[38;5;241m=\u001B[39m comp_method_OBJECT_ARRAY(op, lvalues, rvalues)\n\u001B[0;32m    285\u001B[0m \u001B[38;5;28;01melse\u001B[39;00m:\n\u001B[1;32m--> 286\u001B[0m     res_values \u001B[38;5;241m=\u001B[39m \u001B[43m_na_arithmetic_op\u001B[49m\u001B[43m(\u001B[49m\u001B[43mlvalues\u001B[49m\u001B[43m,\u001B[49m\u001B[43m \u001B[49m\u001B[43mrvalues\u001B[49m\u001B[43m,\u001B[49m\u001B[43m \u001B[49m\u001B[43mop\u001B[49m\u001B[43m,\u001B[49m\u001B[43m \u001B[49m\u001B[43mis_cmp\u001B[49m\u001B[38;5;241;43m=\u001B[39;49m\u001B[38;5;28;43;01mTrue\u001B[39;49;00m\u001B[43m)\u001B[49m\n\u001B[0;32m    288\u001B[0m \u001B[38;5;28;01mreturn\u001B[39;00m res_values\n",
      "File \u001B[1;32mD:\\anaconda\\lib\\site-packages\\pandas\\core\\ops\\array_ops.py:163\u001B[0m, in \u001B[0;36m_na_arithmetic_op\u001B[1;34m(left, right, op, is_cmp)\u001B[0m\n\u001B[0;32m    160\u001B[0m     func \u001B[38;5;241m=\u001B[39m partial(expressions\u001B[38;5;241m.\u001B[39mevaluate, op)\n\u001B[0;32m    162\u001B[0m \u001B[38;5;28;01mtry\u001B[39;00m:\n\u001B[1;32m--> 163\u001B[0m     result \u001B[38;5;241m=\u001B[39m \u001B[43mfunc\u001B[49m\u001B[43m(\u001B[49m\u001B[43mleft\u001B[49m\u001B[43m,\u001B[49m\u001B[43m \u001B[49m\u001B[43mright\u001B[49m\u001B[43m)\u001B[49m\n\u001B[0;32m    164\u001B[0m \u001B[38;5;28;01mexcept\u001B[39;00m \u001B[38;5;167;01mTypeError\u001B[39;00m:\n\u001B[0;32m    165\u001B[0m     \u001B[38;5;28;01mif\u001B[39;00m \u001B[38;5;129;01mnot\u001B[39;00m is_cmp \u001B[38;5;129;01mand\u001B[39;00m (is_object_dtype(left\u001B[38;5;241m.\u001B[39mdtype) \u001B[38;5;129;01mor\u001B[39;00m is_object_dtype(right)):\n\u001B[0;32m    166\u001B[0m         \u001B[38;5;66;03m# For object dtype, fallback to a masked operation (only operating\u001B[39;00m\n\u001B[0;32m    167\u001B[0m         \u001B[38;5;66;03m#  on the non-missing values)\u001B[39;00m\n\u001B[0;32m    168\u001B[0m         \u001B[38;5;66;03m# Don't do this for comparisons, as that will handle complex numbers\u001B[39;00m\n\u001B[0;32m    169\u001B[0m         \u001B[38;5;66;03m#  incorrectly, see GH#32047\u001B[39;00m\n",
      "File \u001B[1;32mD:\\anaconda\\lib\\site-packages\\pandas\\core\\computation\\expressions.py:239\u001B[0m, in \u001B[0;36mevaluate\u001B[1;34m(op, a, b, use_numexpr)\u001B[0m\n\u001B[0;32m    236\u001B[0m \u001B[38;5;28;01mif\u001B[39;00m op_str \u001B[38;5;129;01mis\u001B[39;00m \u001B[38;5;129;01mnot\u001B[39;00m \u001B[38;5;28;01mNone\u001B[39;00m:\n\u001B[0;32m    237\u001B[0m     \u001B[38;5;28;01mif\u001B[39;00m use_numexpr:\n\u001B[0;32m    238\u001B[0m         \u001B[38;5;66;03m# error: \"None\" not callable\u001B[39;00m\n\u001B[1;32m--> 239\u001B[0m         \u001B[38;5;28;01mreturn\u001B[39;00m \u001B[43m_evaluate\u001B[49m\u001B[43m(\u001B[49m\u001B[43mop\u001B[49m\u001B[43m,\u001B[49m\u001B[43m \u001B[49m\u001B[43mop_str\u001B[49m\u001B[43m,\u001B[49m\u001B[43m \u001B[49m\u001B[43ma\u001B[49m\u001B[43m,\u001B[49m\u001B[43m \u001B[49m\u001B[43mb\u001B[49m\u001B[43m)\u001B[49m  \u001B[38;5;66;03m# type: ignore[misc]\u001B[39;00m\n\u001B[0;32m    240\u001B[0m \u001B[38;5;28;01mreturn\u001B[39;00m _evaluate_standard(op, op_str, a, b)\n",
      "File \u001B[1;32mD:\\anaconda\\lib\\site-packages\\pandas\\core\\computation\\expressions.py:128\u001B[0m, in \u001B[0;36m_evaluate_numexpr\u001B[1;34m(op, op_str, a, b)\u001B[0m\n\u001B[0;32m    125\u001B[0m     _store_test_result(result \u001B[38;5;129;01mis\u001B[39;00m \u001B[38;5;129;01mnot\u001B[39;00m \u001B[38;5;28;01mNone\u001B[39;00m)\n\u001B[0;32m    127\u001B[0m \u001B[38;5;28;01mif\u001B[39;00m result \u001B[38;5;129;01mis\u001B[39;00m \u001B[38;5;28;01mNone\u001B[39;00m:\n\u001B[1;32m--> 128\u001B[0m     result \u001B[38;5;241m=\u001B[39m \u001B[43m_evaluate_standard\u001B[49m\u001B[43m(\u001B[49m\u001B[43mop\u001B[49m\u001B[43m,\u001B[49m\u001B[43m \u001B[49m\u001B[43mop_str\u001B[49m\u001B[43m,\u001B[49m\u001B[43m \u001B[49m\u001B[43ma\u001B[49m\u001B[43m,\u001B[49m\u001B[43m \u001B[49m\u001B[43mb\u001B[49m\u001B[43m)\u001B[49m\n\u001B[0;32m    130\u001B[0m \u001B[38;5;28;01mreturn\u001B[39;00m result\n",
      "File \u001B[1;32mD:\\anaconda\\lib\\site-packages\\pandas\\core\\computation\\expressions.py:69\u001B[0m, in \u001B[0;36m_evaluate_standard\u001B[1;34m(op, op_str, a, b)\u001B[0m\n\u001B[0;32m     67\u001B[0m \u001B[38;5;28;01mif\u001B[39;00m _TEST_MODE:\n\u001B[0;32m     68\u001B[0m     _store_test_result(\u001B[38;5;28;01mFalse\u001B[39;00m)\n\u001B[1;32m---> 69\u001B[0m \u001B[38;5;28;01mreturn\u001B[39;00m \u001B[43mop\u001B[49m\u001B[43m(\u001B[49m\u001B[43ma\u001B[49m\u001B[43m,\u001B[49m\u001B[43m \u001B[49m\u001B[43mb\u001B[49m\u001B[43m)\u001B[49m\n",
      "\u001B[1;31mKeyboardInterrupt\u001B[0m: "
     ]
    }
   ],
   "source": [
    "print(X,type(y))\n",
    "row_data=df.sample(frac=1)#打乱\n",
    "x1=row_data.iloc[:(7154-715),:]\n",
    "x2=row_data.iloc[(7154-715):,:]\n",
    "y1=x1.loc[:,40]\n",
    "y2=x2.iloc[:,40]\n",
    "x1=x1.drop(columns=[40])\n",
    "x2=x2.drop(columns=[40])\n",
    "x1=x1.reset_index(drop=True)\n",
    "x2=x2.reset_index(drop=True)\n",
    "y1=y1.reset_index(drop=True)\n",
    "y2=y2.reset_index(drop=True)\n",
    "y1=pd.DataFrame(y1)\n",
    "y2=pd.DataFrame(y2)\n",
    "M=xg(x1,y1)\n",
    "M.train_a_model()\n",
    "rres=pd.DataFrame([0] * len(x2.index), index = x2.index,columns=[40])\n",
    "for tree in M.trees:\n",
    "    rres=rres+predict(tree,x2)\n",
    "print(rres,y2)"
   ],
   "metadata": {
    "collapsed": false,
    "pycharm": {
     "name": "#%%\n"
    }
   }
  },
  {
   "cell_type": "code",
   "execution_count": 13,
   "outputs": [
    {
     "name": "stdout",
     "output_type": "stream",
     "text": [
      "RangeIndex(start=0, stop=715, step=1)\n",
      "RangeIndex(start=0, stop=715, step=1)\n",
      "RangeIndex(start=0, stop=715, step=1)\n",
      "RangeIndex(start=0, stop=715, step=1)\n",
      "RangeIndex(start=0, stop=715, step=1)\n",
      "-0.000873986013986014\n",
      "0.0002071240509703186 0.7420120925146423\n"
     ]
    }
   ],
   "source": [
    "rres=pd.DataFrame([0] * len(x2.index), index = x2.index,columns=[40])\n",
    "for tree in M.trees:\n",
    "    rres=rres+predict(tree,x2)\n",
    "rres=np.transpose(np.array(rres))[0]\n",
    "y22=np.transpose(np.array(y2))[0]\n",
    "ave=np.mean(y22)\n",
    "print(ave)\n",
    "RMSE=np.linalg.norm(rres - y22,ord=2) / math.sqrt(len(y22))\n",
    "R=1-np.linalg.norm(rres-y22,ord=2)**2/np.linalg.norm(y22-ave,ord=2)**2\n",
    "print(RMSE,R)"
   ],
   "metadata": {
    "collapsed": false,
    "pycharm": {
     "name": "#%%\n"
    }
   }
  },
  {
   "cell_type": "code",
   "execution_count": 28,
   "outputs": [
    {
     "name": "stdout",
     "output_type": "stream",
     "text": [
      "0.0001862443284525286 0.7758445321161277\n",
      "gamma= 3e-08\n",
      "0.00021201053114827467 0.7593584059791325\n",
      "gamma= 1e-07\n",
      "0.0002137353631027598 0.7538597847950195\n",
      "gamma= 3e-06\n",
      "0.00021400747901045473 0.7502384513575996\n",
      "gamma= 3e-05\n",
      "0.0001978130742269341 0.773439452682136\n",
      "lambda= 0.001\n",
      "0.0001964262481324829 0.7673521915168998\n",
      "lambda= 0.003\n",
      "0.00021039869116737503 0.7577091314112543\n",
      "lambda= 0.01\n",
      "0.00020090963570989945 0.7400504543086542\n",
      "lambda= 0.3\n",
      "0.00021852545754406686 0.7272074965614317\n",
      "depth= 2\n",
      "0.0002173352328801674 0.696967706235973\n",
      "depth= 8\n",
      "0.0002241941078890356 0.6911105105539258\n",
      "depth= 12\n",
      "0.00025556373944664453 0.6143385647275147\n",
      "depth= 16\n",
      "0.00021547289740691056 0.7309767773754523\n",
      "iter= 2\n",
      "0.00019533965065446422 0.7830636883694284\n",
      "iter= 8\n",
      "0.00020496130216064644 0.7232513654191343\n",
      "iter= 12\n",
      "0.00019988307788696398 0.7646338551586132\n",
      "iter= 16\n"
     ]
    }
   ],
   "source": [
    "def t(lambda_=0.1,gamma_=0.000001,depth=5, least_width = 70,iter_=5):\n",
    "    #print(X, type(y))\n",
    "    row_data = df.sample(frac=1)  #打乱\n",
    "    x1 = row_data.iloc[:(7154 - 715), :]\n",
    "    x2 = row_data.iloc[(7154 - 715):, :]\n",
    "    y1 = x1.loc[:, 40]\n",
    "    y2 = x2.iloc[:, 40]\n",
    "    x1 = x1.drop(columns=[40])\n",
    "    x2 = x2.drop(columns=[40])\n",
    "    x1 = x1.reset_index(drop=True)\n",
    "    x2 = x2.reset_index(drop=True)\n",
    "    y1 = y1.reset_index(drop=True)\n",
    "    y2 = y2.reset_index(drop=True)\n",
    "    y1 = pd.DataFrame(y1)\n",
    "    y2 = pd.DataFrame(y2)\n",
    "    M = xg(x1, y1,lambda_=lambda_,gamma_=gamma_,depth=depth, least_width = least_width,iter_=iter_)\n",
    "    #print(M.iter)\n",
    "    M.train_a_model()\n",
    "    rres=pd.DataFrame([0] * len(x2.index), index = x2.index,columns=[40])\n",
    "    for tree in M.trees:\n",
    "        rres=rres+predict(tree,x2)\n",
    "    rres=np.transpose(np.array(rres))[0]\n",
    "    y22=np.transpose(np.array(y2))[0]\n",
    "    ave=np.mean(y22)\n",
    "    #print(ave)\n",
    "    RMSE=np.linalg.norm(rres - y22,ord=2) / math.sqrt(len(y22))\n",
    "    R=1-np.linalg.norm(rres-y22,ord=2)**2/np.linalg.norm(y22-ave,ord=2)**2\n",
    "    print(RMSE,R)\n",
    "\n",
    "for g in [3e-8,1e-7,3e-6,3e-5]:\n",
    "    t(gamma_=g)\n",
    "    print(\"gamma=\",g)\n",
    "for l in [0.001,0.003,0.01,0.3]:\n",
    "    t(lambda_=l)\n",
    "    print(\"lambda=\",l)\n",
    "for d in [2,8,12,16]:\n",
    "    t(depth=d)\n",
    "    print(\"depth=\",d)\n",
    "\n",
    "for i in [2,8,12,16]:\n",
    "    t(iter_=i)\n",
    "    print(\"iter=\",i)\n"
   ],
   "metadata": {
    "collapsed": false,
    "pycharm": {
     "name": "#%%\n"
    }
   }
  },
  {
   "cell_type": "code",
   "execution_count": 29,
   "outputs": [
    {
     "name": "stdout",
     "output_type": "stream",
     "text": [
      "0.00021140818060764476 0.7438290061092983\n",
      "gamma= 0\n"
     ]
    }
   ],
   "source": [
    "t(gamma_=0)\n",
    "print(\"gamma=\",0)"
   ],
   "metadata": {
    "collapsed": false,
    "pycharm": {
     "name": "#%%\n"
    }
   }
  },
  {
   "cell_type": "code",
   "execution_count": 30,
   "outputs": [
    {
     "name": "stdout",
     "output_type": "stream",
     "text": [
      "0.00018791202881863537 0.8018208404593465\n"
     ]
    }
   ],
   "source": [
    "t()"
   ],
   "metadata": {
    "collapsed": false,
    "pycharm": {
     "name": "#%%\n"
    }
   }
  },
  {
   "cell_type": "code",
   "execution_count": 12,
   "outputs": [
    {
     "name": "stdout",
     "output_type": "stream",
     "text": [
      "      40\n",
      "2818   0\n",
      "5552   0\n",
      "79     0\n",
      "3283   0\n",
      "1200   0\n",
      "...   ..\n",
      "4959   0\n",
      "416    0\n",
      "2713   0\n",
      "3733   0\n",
      "5161   0\n",
      "\n",
      "[715 rows x 1 columns]\n",
      "                                                     40\n",
      "2818  [[[[array([-0.0006307988102419404], dtype=obje...\n",
      "5552  [[[[array([-0.0005246713103912815], dtype=obje...\n",
      "79    [[[[array([-0.0008543515182232148], dtype=obje...\n",
      "3283  [[[[array([-0.0012016378658314976], dtype=obje...\n",
      "1200  [[[[array([-0.0007611344274167465], dtype=obje...\n",
      "...                                                 ...\n",
      "4959  [[[[array([-0.0006001830982236793], dtype=obje...\n",
      "416   [[[[array([-0.0008311893299758134], dtype=obje...\n",
      "2713  [[[[array([-0.0005921843867588517], dtype=obje...\n",
      "3733  [[[[array([-0.0004982068079045716], dtype=obje...\n",
      "5161  [[[[array([-0.00035854324328442474], dtype=obj...\n",
      "\n",
      "[715 rows x 1 columns]\n",
      "          40\n",
      "2818 -0.0005\n",
      "5552 -0.0006\n",
      "79   -0.0008\n",
      "3283 -0.0010\n",
      "1200 -0.0009\n",
      "...      ...\n",
      "4959 -0.0006\n",
      "416  -0.0008\n",
      "2713 -0.0006\n",
      "3733 -0.0006\n",
      "5161 -0.0004\n",
      "\n",
      "[715 rows x 1 columns]\n",
      "0.00021143521810002485 [array([array([array([array([0.7159174302444853], dtype=object)], dtype=object)],\n",
      "              dtype=object)                                                      ],\n",
      "       dtype=object)                                                               ]\n"
     ]
    },
    {
     "data": {
      "text/plain": "<Figure size 432x288 with 1 Axes>",
      "image/png": "[encoded data removed]"
     },
     "metadata": {
      "needs_background": "light"
     },
     "output_type": "display_data"
    }
   ],
   "source": [
    "\n",
    "def split_data(row_data):\n",
    "    #print(row_data)\n",
    "    row_data=row_data.sample(frac=1)#打乱\n",
    "    #print(row_data)\n",
    "    m,n=row_data.shape\n",
    "    a=int(0.1*m)\n",
    "    Z=[]\n",
    "    for i in range(10):\n",
    "        Z.append(row_data.iloc[a*i:a*(i+1),:])\n",
    "    return Z\n",
    "#z0到9就是十折的组分\n",
    "def check_algorithm(df0):\n",
    "    R=[]\n",
    "    RMES=[]\n",
    "    for i in range(5):\n",
    "        S=split_data(df0)\n",
    "        for j in range(10):\n",
    "            X1=pd.DataFrame(columns=df0.columns)\n",
    "            #print(X1)\n",
    "            for k in range(10):\n",
    "                if k!=j:\n",
    "                    X1=pd.concat([X1,S[k]],axis=0)\n",
    "                    #print(X1)\n",
    "            X2=S[j]\n",
    "            #print(X1,X2)\n",
    "            y1=X1.loc[:,[40]]\n",
    "            X1=X1.drop(labels=[40],axis=1)\n",
    "            y2=X2.loc[:,[40]]\n",
    "            X2=X2.drop(labels=[40],axis=1)\n",
    "            #print(X1.shape,y1.shape,X2.shape,y2.shape)\n",
    "            moxin=xg(X1,y1)\n",
    "            moxin.train_a_model()\n",
    "            a=np.linspace(0,len(moxin.J)-1,endpoint=True,num=len(moxin.J))\n",
    "            plt.plot(a,moxin.J)\n",
    "            rres=pd.DataFrame([0] * len(X2.index), index = X2.index,columns=[40])\n",
    "            print(rres)\n",
    "            for tree in moxin.trees:\n",
    "                rres=rres+predict(tree,X2)\n",
    "            r1=math.sqrt(loss(y2,rres)/len(y2))\n",
    "            ave=np.mean(np.array(rres))\n",
    "            AVE=pd.DataFrame([ave] * len(X2.index), index = X2.index,columns=[40])\n",
    "            r2=1-loss(y2,rres)/loss(AVE,rres)\n",
    "            print(rres)\n",
    "            print(y2)\n",
    "            print(r1,r2)\n",
    "            R.append(r2)\n",
    "            RMES.append(r1)\n",
    "    return R,RMES\n",
    "            #X1训练集，X2测试集\n",
    "R,RMSE=check_algorithm(df)\n",
    "#print(\"r^2\",sum(RR)/len(RR),\"RMSE\",sum(RMSE)/le0n(RMSE))"
   ],
   "metadata": {
    "collapsed": false,
    "pycharm": {
     "name": "#%%\n"
    }
   }
  },
  {
   "cell_type": "code",
   "execution_count": 13,
   "outputs": [
    {
     "name": "stdout",
     "output_type": "stream",
     "text": [
      "[array([array([array([array([0.7159174302444853], dtype=object)], dtype=object)],\n",
      "              dtype=object)                                                      ],\n",
      "       dtype=object)                                                               ] 0.00021143521810002485\n"
     ]
    }
   ],
   "source": [
    "print(sum(R)/len(R),sum(RMSE)/len(RMSE))"
   ],
   "metadata": {
    "collapsed": false,
    "pycharm": {
     "name": "#%%\n"
    }
   }
  },
  {
   "cell_type": "code",
   "execution_count": null,
   "outputs": [],
   "source": [],
   "metadata": {
    "collapsed": false,
    "pycharm": {
     "name": "#%%\n"
    }
   }
  }
 ],
 "metadata": {
  "kernelspec": {
   "display_name": "Python 3",
   "language": "python",
   "name": "python3"
  },
  "language_info": {
   "codemirror_mode": {
    "name": "ipython",
    "version": 2
   },
   "file_extension": ".py",
   "mimetype": "text/x-python",
   "name": "python",
   "nbconvert_exporter": "python",
   "pygments_lexer": "ipython2",
   "version": "2.7.6"
  }
 },
 "nbformat": 4,
 "nbformat_minor": 0
}